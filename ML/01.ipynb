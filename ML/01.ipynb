{
 "cells": [
  {
   "cell_type": "markdown",
   "metadata": {},
   "source": [
    "# **Introduction to Machine Learning**\n"
   ]
  },
  {
   "cell_type": "markdown",
   "metadata": {},
   "source": [
    "## Agenda\n",
    "1. Machine Learning Introduction\n",
    "2. AI vs ML vs DL vs DS\n",
    "3. Simple linear Regression - mathematics"
   ]
  },
  {
   "cell_type": "markdown",
   "metadata": {},
   "source": [
    "## AI vs DL vs ML vs DS\n",
    "AI $\\in$ ML $\\in$ DL\n",
    "\n",
    "AI is a way to for the computer to make decisions without human intervention\n",
    "ML provides tool to analyze, visualize, perfom prediction and other task with the help of data.\n",
    "DL is computer vision, NLP, LLM\n",
    "    \n"
   ]
  },
  {
   "cell_type": "markdown",
   "metadata": {},
   "source": [
    "### ML and DL\n",
    "- **Supervised**(You know and provide the output)\n",
    "  - Regression\n",
    "  - Classification\n",
    "- **Unsupervised**(CLustering algorithms)(You will not be giving any outputs)\n",
    "    - Db Scan\n",
    "    -  K mean\n",
    "    - hirarchial mean cluster\n",
    "    - Sillhuette scoring\n",
    "  \n",
    "**ML Algorithms**\n",
    "- Linear regresssion\n",
    "- Logistic regresssion\n",
    "- polynomial regresssion\n",
    "- Support Vector Machine \n",
    "- Support Vector Regression\n",
    "- Random Forest\n",
    "- Xfsboost\n",
    "- name bayes\n",
    "- KNN"
   ]
  },
  {
   "cell_type": "markdown",
   "metadata": {},
   "source": [
    "When your out put feature is continuous it is regression problem, otherwise classification problem"
   ]
  },
  {
   "cell_type": "markdown",
   "metadata": {},
   "source": [
    "## **Simple Linear Regression**"
   ]
  },
  {
   "cell_type": "markdown",
   "metadata": {},
   "source": [
    "#### Problem Statement\n",
    "I/P- Height\n",
    "Predict- Weight\n",
    "So *linear regression* will use a training dataset that already has **Height** and **weight** and than draw a **best fit line** after graphing it *y being the predict* and *x being the feature to make prediction based on *. and than return the prediction based on the best fit line"
   ]
  },
  {
   "cell_type": "markdown",
   "metadata": {},
   "source": [
    "**Residual**- The difference between real point and the predicted point"
   ]
  },
  {
   "cell_type": "markdown",
   "metadata": {},
   "source": [
    "the best line equation \n",
    "> **y=$\\theta_0+ \\theta_1x$** or \n",
    "> **y=mx+c**\n",
    "\n",
    "where\n",
    "> m=$\\theta_1$= Intercept= The value of `y` when `x = 0 or the min(x)`\n",
    "> \n",
    "> c= $\\theta_0$= Slope = with change in `x` how much is the change in `y`  "
   ]
  },
  {
   "cell_type": "markdown",
   "metadata": {},
   "source": [
    "#### Cost Function\n",
    "##### Mean square Error= J($\\theta_0,\\theta_1$) = $\\frac{1}{2 \\cdot m} \\cdot \\sum_{i=1}^{m}(h_\\theta \\cdot x_i- y_i)^2$\n",
    "\n",
    "**Objective**\n",
    "\n",
    "Minimize J($\\theta_0,\\theta_1$) = $\\frac{1}{2 \\cdot m} \\cdot \\sum_{i=1}^{m}(h_\\theta \\cdot x_i- y_i)^2$\n",
    "\n",
    "$\\theta_0= Observed Value$\n",
    "\n",
    "$y_1= Predicted Value$\n",
    "\n",
    "By changeing **$\\theta_0$** and **y_i** I need to minimize the output \n",
    "\n",
    " "
   ]
  },
  {
   "cell_type": "markdown",
   "metadata": {},
   "source": []
  },
  {
   "cell_type": "markdown",
   "metadata": {},
   "source": []
  },
  {
   "cell_type": "code",
   "execution_count": 1,
   "metadata": {},
   "outputs": [],
   "source": [
    "import pandas as pd\n",
    "import numpy as np"
   ]
  },
  {
   "cell_type": "code",
   "execution_count": null,
   "metadata": {},
   "outputs": [],
   "source": []
  },
  {
   "cell_type": "markdown",
   "metadata": {},
   "source": []
  },
  {
   "cell_type": "code",
   "execution_count": null,
   "metadata": {},
   "outputs": [],
   "source": []
  },
  {
   "cell_type": "markdown",
   "metadata": {},
   "source": []
  },
  {
   "cell_type": "code",
   "execution_count": 9,
   "metadata": {},
   "outputs": [
    {
     "data": {
      "text/plain": [
       "9"
      ]
     },
     "execution_count": 9,
     "metadata": {},
     "output_type": "execute_result"
    }
   ],
   "source": []
  }
 ],
 "metadata": {
  "kernelspec": {
   "display_name": "Python 3",
   "language": "python",
   "name": "python3"
  },
  "language_info": {
   "codemirror_mode": {
    "name": "ipython",
    "version": 3
   },
   "file_extension": ".py",
   "mimetype": "text/x-python",
   "name": "python",
   "nbconvert_exporter": "python",
   "pygments_lexer": "ipython3",
   "version": "3.11.4"
  },
  "orig_nbformat": 4
 },
 "nbformat": 4,
 "nbformat_minor": 2
}
