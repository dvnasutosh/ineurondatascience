{
 "cells": [
  {
   "cell_type": "code",
   "execution_count": null,
   "metadata": {},
   "outputs": [],
   "source": [
    "\n",
    "# OOPS\n",
    "# 1. Encapsulation\n",
    "# 2. Inheritance\n",
    "# 3. Polymorphism\n",
    "# 4. Abstraction\n",
    "# 5. Modularity\n",
    "# 6. \n",
    "\n",
    "\n",
    "# try\n",
    "# except\n",
    "# else\n",
    "# raise\n",
    "# finally\n",
    "\n",
    "# what is os error?\n",
    "\n",
    "# --> OSError is a built-in exception in Python\n",
    "\n",
    "a=int(input(\"enter first number\"))\n",
    "b=int(input(\"enter second number\"))\n",
    "try:\n",
    "    c=a/b\n",
    "    print(c)\n",
    "except:\n",
    "    print(\"b should not be zero\")\n",
    "\n",
    "# https://codeshare.io/VZnxq3\n",
    "\n",
    "\n",
    "def zero_error(a,b):\n",
    "    try:\n",
    "        print(a/b)\t\n",
    "        print('try')\n",
    "    except:\n",
    "        print(b/a)\n",
    "        print('except')\n",
    "        \n",
    "        \n",
    "\n",
    "        \n",
    "\n",
    "a=int(input(\"enter first number\"))\n",
    "b=int(input(\"enter second number\"))\n",
    "try:\n",
    "    c=a/b\n",
    "    print(c)\n",
    "except:\n",
    "    print(\"b should not be zero\")\n",
    "# Don't focus in class\n",
    "# https://codeshare.io/VZnxq3\n",
    "\n"
   ]
  },
  {
   "cell_type": "code",
   "execution_count": null,
   "metadata": {},
   "outputs": [],
   "source": [
    "\n",
    "def zero_error(a,b):\n",
    "    try:\n",
    "        print(a/b)\n",
    "        print('try')\n",
    "    except:\n",
    "        print(b/a)\n",
    "        print('except')"
   ]
  },
  {
   "cell_type": "code",
   "execution_count": null,
   "metadata": {},
   "outputs": [],
   "source": [
    "a=input(\"Enter\")"
   ]
  }
 ],
 "metadata": {
  "language_info": {
   "name": "python"
  },
  "orig_nbformat": 4
 },
 "nbformat": 4,
 "nbformat_minor": 2
}
