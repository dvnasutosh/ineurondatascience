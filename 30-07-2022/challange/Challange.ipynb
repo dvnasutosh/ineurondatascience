{
 "cells": [
  {
   "cell_type": "code",
   "execution_count": null,
   "metadata": {},
   "outputs": [],
   "source": [
    "# 1 .Find out there avarage rating on weekly basis keep this in a mind that they take two days of leave\n",
    "# 2 .Total working days for each agents \n",
    "# 3. Total query that you hvae taken \n",
    "# 4. total Feedback that you have received \n",
    "# 5. a agent name who have average rating between 3.5 to 4 \n",
    "# 6 . Agent name who have rating lesss then 3.5 \n",
    "# 7 . agent name who have rating more then 4.5 \n",
    "# 8 . how many feedaback agents have received more then 4.5 average\n",
    "# 9 . average weekly response time for each agent \n",
    "# 10 . average weekely resolution time for each agents \n",
    "# 11 . list of all agents name \n",
    "# 12 . percentage of chat on which they have received a feedback \n",
    "# 13 . Total contributation hour for each and every agents weekly basis \n",
    "# 14. total percentage of active hour for a month\n",
    "\n",
    "# sunny.savita@ineuron.ai ,sudhanshu@ineuron.ai"
   ]
  },
  {
   "cell_type": "code",
   "execution_count": 53,
   "metadata": {},
   "outputs": [],
   "source": [
    "# Loading The Basics\n",
    "import pandas as pd;\n",
    "import datetime as dt;\n",
    "\n",
    "lr=pd.read_csv('agent_login_report.csv',header=2); # NOTE: Header = 2 -> since the header is not the 0th row\n",
    "pr=pd.read_csv('AgentPerformance.csv',header=1);\n"
   ]
  },
  {
   "cell_type": "code",
   "execution_count": 80,
   "metadata": {},
   "outputs": [
    {
     "name": "stdout",
     "output_type": "stream",
     "text": [
      "70\n",
      "--------------------------------------------------------------------------------\n",
      "70\n"
     ]
    }
   ],
   "source": [
    "#SECTION 1 Find out there avarage rating on weekly basis keep this in a mind that they take two days of leave\n",
    "\n",
    "lr['Date']=pd.to_datetime(lr['Date'])\n",
    "pr['Date']=pd.to_datetime(pr['Date'])\n",
    "# Filtering out agent name and agent rating\n",
    "rating=pr[['Agent Name','Date','Average Rating']]\n",
    "rating.groupby()\n",
    "Agents=rating['Agent Name'].unique()\n"
   ]
  }
 ],
 "metadata": {
  "kernelspec": {
   "display_name": "Python 3.10.4 64-bit",
   "language": "python",
   "name": "python3"
  },
  "language_info": {
   "name": "python",
   "version": "3.10.4"
  },
  "orig_nbformat": 4,
  "vscode": {
   "interpreter": {
    "hash": "74882ba52bd82e4b6f5eb2a640d2903ddfd8b9c5c05fa347430ac8e29ca5af31"
   }
  }
 },
 "nbformat": 4,
 "nbformat_minor": 2
}
