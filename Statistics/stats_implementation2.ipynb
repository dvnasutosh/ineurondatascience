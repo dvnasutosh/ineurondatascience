{
 "cells": [
  {
   "cell_type": "code",
   "execution_count": 3,
   "metadata": {},
   "outputs": [],
   "source": [
    "import numpy as np\n",
    "import statistics\n",
    "\n",
    "import pandas as pd\n",
    "import seaborn as sns\n",
    "import matplotlib.pyplot as plt\n",
    "\n"
   ]
  },
  {
   "cell_type": "code",
   "execution_count": 4,
   "metadata": {},
   "outputs": [
    {
     "data": {
      "text/plain": [
       "16"
      ]
     },
     "execution_count": 4,
     "metadata": {},
     "output_type": "execute_result"
    }
   ],
   "source": [
    "# genereate a random number\n",
    "np.random.randint(10,20)"
   ]
  },
  {
   "cell_type": "code",
   "execution_count": 5,
   "metadata": {},
   "outputs": [
    {
     "data": {
      "text/plain": [
       "array([18, 10, 17, 18, 14, 18, 18, 15, 18, 11, 17, 18, 19, 13, 15, 16, 19,\n",
       "       10, 11, 13, 15, 19, 17, 15, 10, 14, 15, 14, 13, 15, 16, 11, 12, 14,\n",
       "       10, 11, 11, 18, 11, 14, 17, 14, 12, 12, 14, 13, 16, 17, 16, 14])"
      ]
     },
     "execution_count": 5,
     "metadata": {},
     "output_type": "execute_result"
    }
   ],
   "source": [
    "# genereate 50 random number\n",
    "np.random.randint(10,20,50)"
   ]
  },
  {
   "cell_type": "code",
   "execution_count": 6,
   "metadata": {},
   "outputs": [],
   "source": [
    "population=np.random.randint(10,50,500)"
   ]
  },
  {
   "cell_type": "code",
   "execution_count": 7,
   "metadata": {},
   "outputs": [
    {
     "data": {
      "text/plain": [
       "array([40, 37, 38, 37, 47, 11, 26, 35, 18, 30, 11, 42, 17, 44, 32, 47, 24,\n",
       "       22, 13, 28, 36, 46, 14, 18, 22, 19, 31, 20, 24, 15, 18, 14, 48, 48,\n",
       "       39, 14, 34, 25, 27, 44, 13, 42, 45, 13, 25, 26, 26, 10, 29, 19, 16,\n",
       "       49, 25, 26, 33, 21, 13, 10, 18, 41, 47, 23, 35, 23, 42, 45, 47, 44,\n",
       "       31, 43, 48, 36, 21, 44, 12, 22, 25, 15, 49, 44, 16, 37, 25, 26, 47,\n",
       "       41, 21, 15, 33, 45, 41, 28, 12, 43, 22, 14, 22, 41, 21, 24, 45, 15,\n",
       "       19, 40, 47, 32, 27, 18, 29, 24, 15, 45, 23, 18, 17, 47, 18, 10, 36,\n",
       "       14, 28, 29, 22, 37, 30, 40, 10, 32, 18, 28, 10, 33, 11, 31, 43, 19,\n",
       "       12, 39, 17, 21, 37, 48, 48, 10, 37, 21, 34, 13, 40, 21, 24, 13, 40,\n",
       "       12, 41, 12, 27, 16, 26, 13, 48, 24, 39, 43, 39, 26, 28, 44, 17, 29,\n",
       "       14, 24, 30, 17, 48, 38, 36, 31, 12, 46, 20, 11, 27, 48, 17, 23, 17,\n",
       "       45, 38, 29, 19, 32, 19, 34, 19, 24, 33, 43, 27, 41, 22, 33, 45, 40,\n",
       "       34, 10, 13, 38, 40, 16, 40, 18, 23, 36, 40, 46, 33, 35, 37, 35, 11,\n",
       "       48, 45, 21, 34, 21, 24, 43, 26, 39, 14, 23, 11, 25, 26, 25, 11, 48,\n",
       "       32, 38, 32, 36, 43, 37, 46, 32, 32, 36, 24, 24, 28, 19, 27, 38, 47,\n",
       "       34, 45, 34, 36, 25, 27, 38, 38, 31, 44, 33, 25, 36, 34, 45, 31, 18,\n",
       "       18, 24, 41, 20, 26, 10, 28, 15, 34, 27, 49, 15, 31, 17, 11, 27, 20,\n",
       "       42, 44, 47, 14, 21, 16, 12, 43, 23, 21, 31, 48, 22, 22, 18, 11, 20,\n",
       "       22, 27, 16, 17, 35, 18, 44, 20, 25, 25, 17, 37, 28, 32, 47, 15, 48,\n",
       "       49, 40, 20, 19, 48, 39, 11, 31, 14, 36, 16, 39, 18, 45, 46, 37, 34,\n",
       "       47, 39, 26, 39, 27, 38, 44, 11, 23, 13, 36, 32, 31, 45, 49, 33, 15,\n",
       "       47, 37, 13, 47, 33, 30, 34, 37, 44, 36, 19, 43, 41, 26, 13, 18, 14,\n",
       "       37, 33, 29, 11, 44, 19, 34, 23, 32, 26, 16, 35, 43, 28, 11, 36, 17,\n",
       "       25, 46, 12, 30, 48, 43, 26, 14, 34, 40, 23, 39, 26, 49, 34, 19, 19,\n",
       "       20, 31, 29, 23, 35, 18, 47, 26, 32, 26, 30, 14, 21, 43, 46, 40, 11,\n",
       "       18, 40, 20, 16, 20, 16, 43, 42, 11, 25, 34, 49, 41, 20, 12, 30, 41,\n",
       "       37, 18, 33, 44, 16, 41, 22, 45, 44, 17, 31, 36, 13, 29, 18, 48, 47,\n",
       "       38, 21, 17, 39, 36, 30, 42, 37, 29, 25, 40, 18, 24, 12, 22, 28, 24,\n",
       "       17, 36, 28, 48, 42, 46, 27, 25, 19, 38, 44, 25, 41, 23, 34, 22, 10,\n",
       "       28, 49, 45, 21, 45, 23, 13])"
      ]
     },
     "execution_count": 7,
     "metadata": {},
     "output_type": "execute_result"
    }
   ],
   "source": [
    "population"
   ]
  },
  {
   "attachments": {},
   "cell_type": "markdown",
   "metadata": {},
   "source": [
    "# Mean"
   ]
  },
  {
   "cell_type": "code",
   "execution_count": 8,
   "metadata": {},
   "outputs": [
    {
     "data": {
      "text/plain": [
       "29.368"
      ]
     },
     "execution_count": 8,
     "metadata": {},
     "output_type": "execute_result"
    }
   ],
   "source": [
    "# Mean\n",
    "np.mean(population)"
   ]
  },
  {
   "attachments": {},
   "cell_type": "markdown",
   "metadata": {},
   "source": [
    "# Median"
   ]
  },
  {
   "cell_type": "code",
   "execution_count": 9,
   "metadata": {},
   "outputs": [
    {
     "data": {
      "text/plain": [
       "29.0"
      ]
     },
     "execution_count": 9,
     "metadata": {},
     "output_type": "execute_result"
    }
   ],
   "source": [
    "# Median\n",
    "np.median(population)"
   ]
  },
  {
   "attachments": {},
   "cell_type": "markdown",
   "metadata": {},
   "source": [
    "# Mode"
   ]
  },
  {
   "cell_type": "code",
   "execution_count": 10,
   "metadata": {},
   "outputs": [
    {
     "data": {
      "text/plain": [
       "18"
      ]
     },
     "execution_count": 10,
     "metadata": {},
     "output_type": "execute_result"
    }
   ],
   "source": [
    "# Mode \n",
    "\n",
    "statistics.mode(population)"
   ]
  },
  {
   "attachments": {},
   "cell_type": "markdown",
   "metadata": {},
   "source": [
    "# Histplot"
   ]
  },
  {
   "cell_type": "code",
   "execution_count": 11,
   "metadata": {},
   "outputs": [
    {
     "data": {
      "text/plain": [
       "<Axes: ylabel='Frequency'>"
      ]
     },
     "execution_count": 11,
     "metadata": {},
     "output_type": "execute_result"
    },
    {
     "data": {
      "image/png": "[encoded data removed]",
      "text/plain": [
       "<Figure size 640x480 with 1 Axes>"
      ]
     },
     "metadata": {},
     "output_type": "display_data"
    }
   ],
   "source": [
    "pd.Series(population).plot(kind='hist')"
   ]
  },
  {
   "cell_type": "code",
   "execution_count": 12,
   "metadata": {},
   "outputs": [
    {
     "data": {
      "text/plain": [
       "array([14, 32, 17, 25, 48, 22, 31, 13, 27, 33, 45, 28, 41, 39, 48, 27, 27,\n",
       "       40, 48, 17])"
      ]
     },
     "execution_count": 12,
     "metadata": {},
     "output_type": "execute_result"
    }
   ],
   "source": [
    "sample=np.random.choice(population,20)\n",
    "sample"
   ]
  },
  {
   "attachments": {},
   "cell_type": "markdown",
   "metadata": {},
   "source": [
    "# Mean median  and mode of sample"
   ]
  },
  {
   "cell_type": "code",
   "execution_count": 13,
   "metadata": {},
   "outputs": [
    {
     "name": "stdout",
     "output_type": "stream",
     "text": [
      "mean of the sample 31.1\n",
      "median of the sample 29.5\n",
      "mode of the sample 48\n"
     ]
    }
   ],
   "source": [
    "print(f\"mean of the sample {np.mean(sample)}\")\n",
    "print(f\"median of the sample {np.median(sample)}\")\n",
    "print(f\"mode of the sample {statistics.mode(sample)}\")"
   ]
  },
  {
   "cell_type": "code",
   "execution_count": 14,
   "metadata": {},
   "outputs": [
    {
     "data": {
      "text/plain": [
       "[array([19, 34, 17, 29, 13, 15, 28, 31, 21, 47, 14, 33, 25, 10, 25, 32, 45,\n",
       "        36, 41, 29]),\n",
       " array([21, 36, 48, 13, 29, 17, 42, 29, 31, 11, 21, 19, 41, 28, 32, 12, 12,\n",
       "        36, 11, 38]),\n",
       " array([21, 13, 25, 46, 14, 13, 29, 28, 11, 17, 39, 28, 36, 17, 13, 18, 10,\n",
       "        25, 31, 15]),\n",
       " array([32, 19, 18, 29, 21, 19, 48, 24, 12, 16, 48, 49, 33, 27, 15, 43, 26,\n",
       "        18, 47, 49]),\n",
       " array([18, 28, 37, 36, 41, 12, 21, 15, 28, 11, 11, 20, 37, 18, 35, 29, 25,\n",
       "        37, 20, 22]),\n",
       " array([22, 43, 18, 41, 33, 41, 47, 45, 20, 34, 20, 40, 11, 25, 28, 18, 37,\n",
       "        35, 43, 27]),\n",
       " array([28, 19, 39, 21, 47, 20, 31, 10, 42, 31, 41, 42, 21, 28, 38, 41, 17,\n",
       "        11, 49, 17]),\n",
       " array([47, 32, 41, 47, 45, 44, 39, 17, 19, 34, 45, 45, 26, 26, 45, 44, 23,\n",
       "        44, 48, 18]),\n",
       " array([46, 45, 18, 25, 27, 48, 26, 37, 41, 44, 28, 20, 32, 47, 15, 26, 48,\n",
       "        40, 45, 21]),\n",
       " array([10, 46, 38, 17, 10, 38, 31, 10, 20, 14, 24, 35, 26, 25, 21, 31, 36,\n",
       "        47, 20, 17])]"
      ]
     },
     "execution_count": 14,
     "metadata": {},
     "output_type": "execute_result"
    }
   ],
   "source": [
    "sampleList=[np.random.choice(population,20) for _ in range(10)]\n",
    "sampleList"
   ]
  },
  {
   "cell_type": "code",
   "execution_count": 15,
   "metadata": {},
   "outputs": [
    {
     "name": "stdout",
     "output_type": "stream",
     "text": [
      "mean of the sample0 27.2\n",
      "median of the sample0 28.5\n",
      "mode of the sample0 29\n",
      "____________________________________________________________________________________________________\n",
      "mean of the sample1 26.35\n",
      "median of the sample1 28.5\n",
      "mode of the sample1 21\n",
      "____________________________________________________________________________________________________\n",
      "mean of the sample2 22.45\n",
      "median of the sample2 19.5\n",
      "mode of the sample2 13\n",
      "____________________________________________________________________________________________________\n",
      "mean of the sample3 29.65\n",
      "median of the sample3 26.5\n",
      "mode of the sample3 19\n",
      "____________________________________________________________________________________________________\n",
      "mean of the sample4 25.05\n",
      "median of the sample4 23.5\n",
      "mode of the sample4 37\n",
      "____________________________________________________________________________________________________\n",
      "mean of the sample5 31.4\n",
      "median of the sample5 33.5\n",
      "mode of the sample5 43\n",
      "____________________________________________________________________________________________________\n",
      "mean of the sample6 29.65\n",
      "median of the sample6 29.5\n",
      "mode of the sample6 28\n",
      "____________________________________________________________________________________________________\n",
      "mean of the sample7 36.45\n",
      "median of the sample7 42.5\n",
      "mode of the sample7 45\n",
      "____________________________________________________________________________________________________\n",
      "mean of the sample8 33.95\n",
      "median of the sample8 34.5\n",
      "mode of the sample8 45\n",
      "____________________________________________________________________________________________________\n",
      "mean of the sample9 25.8\n",
      "median of the sample9 24.5\n",
      "mode of the sample9 10\n",
      "____________________________________________________________________________________________________\n"
     ]
    }
   ],
   "source": [
    "for n in range(len(sampleList)):\n",
    "    print(f\"mean of the sample{n} {np.mean(sampleList[n])}\")\n",
    "    print(f\"median of the sample{n} {np.median(sampleList[n])}\")\n",
    "    print(f\"mode of the sample{n} {statistics.mode(sampleList[n])}\")\n",
    "    print(\"__\"*50)"
   ]
  },
  {
   "cell_type": "code",
   "execution_count": 16,
   "metadata": {},
   "outputs": [
    {
     "data": {
      "text/plain": [
       "array([4, 6, 3, ..., 5, 7, 5])"
      ]
     },
     "execution_count": 16,
     "metadata": {},
     "output_type": "execute_result"
    }
   ],
   "source": [
    "binomialPopulation=np.random.binomial(10,0.5,10000)\n",
    "binomialPopulation"
   ]
  },
  {
   "cell_type": "code",
   "execution_count": 17,
   "metadata": {},
   "outputs": [
    {
     "data": {
      "text/plain": [
       "10000"
      ]
     },
     "execution_count": 17,
     "metadata": {},
     "output_type": "execute_result"
    }
   ],
   "source": [
    "len(binomialPopulation)"
   ]
  },
  {
   "attachments": {},
   "cell_type": "markdown",
   "metadata": {},
   "source": [
    "# Binomial Distribution"
   ]
  },
  {
   "cell_type": "code",
   "execution_count": 18,
   "metadata": {},
   "outputs": [
    {
     "name": "stderr",
     "output_type": "stream",
     "text": [
      "C:\\Users\\Dvain\\AppData\\Local\\Temp\\ipykernel_25540\\3521757192.py:1: UserWarning: \n",
      "\n",
      "`distplot` is a deprecated function and will be removed in seaborn v0.14.0.\n",
      "\n",
      "Please adapt your code to use either `displot` (a figure-level function with\n",
      "similar flexibility) or `histplot` (an axes-level function for histograms).\n",
      "\n",
      "For a guide to updating your code to use the new functions, please see\n",
      "https://gist.github.com/mwaskom/de44147ed2974457ad6372750bbe5751\n",
      "\n",
      "  sns.distplot(binomialPopulation)\n"
     ]
    },
    {
     "data": {
      "text/plain": [
       "<Axes: ylabel='Density'>"
      ]
     },
     "execution_count": 18,
     "metadata": {},
     "output_type": "execute_result"
    },
    {
     "data": {
      "image/png": "[encoded data removed]",
      "text/plain": [
       "<Figure size 640x480 with 1 Axes>"
      ]
     },
     "metadata": {},
     "output_type": "display_data"
    }
   ],
   "source": [
    "sns.distplot(binomialPopulation)"
   ]
  },
  {
   "attachments": {},
   "cell_type": "markdown",
   "metadata": {},
   "source": [
    "# Proving Central Limit Theorum"
   ]
  },
  {
   "cell_type": "code",
   "execution_count": 19,
   "metadata": {},
   "outputs": [
    {
     "name": "stderr",
     "output_type": "stream",
     "text": [
      "C:\\Users\\Dvain\\AppData\\Local\\Temp\\ipykernel_25540\\162840963.py:3: UserWarning: \n",
      "\n",
      "`distplot` is a deprecated function and will be removed in seaborn v0.14.0.\n",
      "\n",
      "Please adapt your code to use either `displot` (a figure-level function with\n",
      "similar flexibility) or `histplot` (an axes-level function for histograms).\n",
      "\n",
      "For a guide to updating your code to use the new functions, please see\n",
      "https://gist.github.com/mwaskom/de44147ed2974457ad6372750bbe5751\n",
      "\n",
      "  sns.distplot(sample_mean)\n"
     ]
    },
    {
     "data": {
      "text/plain": [
       "<Axes: ylabel='Density'>"
      ]
     },
     "execution_count": 19,
     "metadata": {},
     "output_type": "execute_result"
    },
    {
     "data": {
      "image/png": "[encoded data removed]",
      "text/plain": [
       "<Figure size 640x480 with 1 Axes>"
      ]
     },
     "metadata": {},
     "output_type": "display_data"
    }
   ],
   "source": [
    "sample_mean=[np.mean(np.random.choice(binomialPopulation,3000)) for _ in range(1,200)]\n",
    "\n",
    "sns.distplot(sample_mean)\n"
   ]
  },
  {
   "attachments": {},
   "cell_type": "markdown",
   "metadata": {},
   "source": [
    "# Multiple ways of sampling\n",
    "- Random\n",
    "- Startified\n",
    "- Cluser\n",
    "- Systematic sample"
   ]
  },
  {
   "cell_type": "code",
   "execution_count": null,
   "metadata": {},
   "outputs": [],
   "source": []
  },
  {
   "attachments": {},
   "cell_type": "markdown",
   "metadata": {},
   "source": [
    "# Confidence Interval and Margin Of Error"
   ]
  },
  {
   "cell_type": "code",
   "execution_count": 20,
   "metadata": {},
   "outputs": [],
   "source": [
    "import scipy.stats as stat"
   ]
  },
  {
   "cell_type": "code",
   "execution_count": 21,
   "metadata": {},
   "outputs": [
    {
     "data": {
      "text/plain": [
       "1.6448536269514722"
      ]
     },
     "execution_count": 21,
     "metadata": {},
     "output_type": "execute_result"
    }
   ],
   "source": [
    "stat.norm.ppf(q=0.95) # q is confidence interval and ppf is percent point Function\n",
    "\n"
   ]
  },
  {
   "attachments": {},
   "cell_type": "markdown",
   "metadata": {},
   "source": [
    "\n",
    "\n",
    "## Understanding the Percent Point Function (PPF) in Statistics\n",
    "\n",
    "In statistics, we often work with probability distributions to describe the likelihood of different outcomes or events. A **probability distribution** tells us how probable each outcome or event is within a given set.\n",
    "\n",
    "The **Cumulative Distribution Function (CDF)** is one way to describe a probability distribution. It gives us the probability that a random variable takes on a value less than or equal to a certain value. In simpler terms, it tells us the probability of observing a value up to a specific point.\n",
    "\n",
    "Now, the **Percent Point Function (PPF)** is essentially the reverse of the CDF. Instead of giving us the probability, it gives us the corresponding value for a given probability.\n",
    "\n",
    "To understand this better, let's consider an example. Suppose we have a **normal distribution**, which is a common probability distribution used in statistics. The normal distribution is characterized by its mean (μ) and standard deviation (σ). It is bell-shaped and symmetric.\n",
    "\n",
    "The PPF for the normal distribution allows us to find the value at a particular percentile. For instance, let's say we want to find the value at the **95th percentile** of the distribution. This means we want to find the value below which 95% of the data falls.\n",
    "\n",
    "By using the PPF, we input the probability of **0.95** (95%) and obtain the corresponding value from the distribution. This value tells us the cutoff point below which 95% of the data lies.\n",
    "\n",
    "The PPF is useful in a variety of statistical applications. It can help us determine critical values for hypothesis testing, calculate confidence intervals, and make decisions based on specific percentiles.\n",
    "\n",
    "To understand the PPF and its applications, it's essential to study the topic of **probability distributions**. This typically involves learning about different distributions, such as the normal, binomial, or exponential distribution, and how to work with their respective PPFs.\n"
   ]
  },
  {
   "attachments": {},
   "cell_type": "markdown",
   "metadata": {},
   "source": [
    "**CDF**- Any point in a CDF graph Represents , *what is the chance(probability) of a random value to be equal to or less than the given value*.\n",
    "PPF- Given a probability, what would be the ceiling value opto which(<=) the probability of less than equal to value\n"
   ]
  },
  {
   "attachments": {},
   "cell_type": "markdown",
   "metadata": {},
   "source": [
    "In short,\n",
    "\n",
    "CDF returns probability for x < = i,\n",
    "> x is a random value\n",
    "> i is a given value\n",
    "In PPF, given 'p' (probability) it returns i the value where x<=i\n",
    "\n",
    "Thus,\n",
    "CDF -> Given I returns p\n",
    "PPF -> Given p returns I\n"
   ]
  },
  {
   "cell_type": "code",
   "execution_count": 22,
   "metadata": {},
   "outputs": [
    {
     "data": {
      "text/plain": [
       "0.254059056469189"
      ]
     },
     "execution_count": 22,
     "metadata": {},
     "output_type": "execute_result"
    }
   ],
   "source": [
    "stat.norm.pdf(x=0.95)"
   ]
  },
  {
   "cell_type": "code",
   "execution_count": 23,
   "metadata": {},
   "outputs": [
    {
     "data": {
      "text/plain": [
       "1.959963984540054"
      ]
     },
     "execution_count": 23,
     "metadata": {},
     "output_type": "execute_result"
    }
   ],
   "source": [
    "z_critical= stat.norm.ppf(q=0.975)\n",
    "z_critical"
   ]
  },
  {
   "cell_type": "code",
   "execution_count": 24,
   "metadata": {},
   "outputs": [
    {
     "data": {
      "text/plain": [
       "2.0638985616280205"
      ]
     },
     "execution_count": 24,
     "metadata": {},
     "output_type": "execute_result"
    }
   ],
   "source": [
    "t_critical= stat.t.ppf(q=0.975,df=24)\n",
    "t_critical"
   ]
  },
  {
   "cell_type": "code",
   "execution_count": 25,
   "metadata": {},
   "outputs": [
    {
     "data": {
      "text/plain": [
       "5.011236896880416"
      ]
     },
     "execution_count": 25,
     "metadata": {},
     "output_type": "execute_result"
    }
   ],
   "source": [
    "margin_of_error= z_critical* (np.std(population)/np.sqrt(20))\n",
    "margin_of_error"
   ]
  },
  {
   "cell_type": "code",
   "execution_count": 26,
   "metadata": {},
   "outputs": [
    {
     "data": {
      "text/plain": [
       "24.356763103119583"
      ]
     },
     "execution_count": 26,
     "metadata": {},
     "output_type": "execute_result"
    }
   ],
   "source": [
    "import numpy\n",
    "\n",
    "\n",
    "numpy.mean(population)-margin_of_error"
   ]
  },
  {
   "attachments": {},
   "cell_type": "markdown",
   "metadata": {},
   "source": []
  },
  {
   "cell_type": "code",
   "execution_count": 27,
   "metadata": {},
   "outputs": [
    {
     "data": {
      "text/plain": [
       "29.368"
      ]
     },
     "execution_count": 27,
     "metadata": {},
     "output_type": "execute_result"
    }
   ],
   "source": [
    "np.mean(population)"
   ]
  },
  {
   "attachments": {},
   "cell_type": "markdown",
   "metadata": {},
   "source": [
    "# Z-Test\n"
   ]
  },
  {
   "cell_type": "code",
   "execution_count": null,
   "metadata": {},
   "outputs": [],
   "source": [
    "pop_mean=168\n",
    "pop_std=3.9\n",
    "n=36\n",
    "sam_mean=169.5\n",
    "CI=0.95\n",
    "alpha=1-CI\n"
   ]
  }
 ],
 "metadata": {
  "kernelspec": {
   "display_name": "Python 3",
   "language": "python",
   "name": "python3"
  },
  "language_info": {
   "codemirror_mode": {
    "name": "ipython",
    "version": 3
   },
   "file_extension": ".py",
   "mimetype": "text/x-python",
   "name": "python",
   "nbconvert_exporter": "python",
   "pygments_lexer": "ipython3",
   "version": "3.11.4"
  },
  "orig_nbformat": 4
 },
 "nbformat": 4,
 "nbformat_minor": 2
}
