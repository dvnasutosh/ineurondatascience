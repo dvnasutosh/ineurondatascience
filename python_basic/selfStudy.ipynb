{
 "cells": [
  {
   "cell_type": "code",
   "execution_count": null,
   "metadata": {},
   "outputs": [],
   "source": [
    "# Theory: All datatypes in python\n",
    "\n",
    "\n",
    "\n",
    "\n",
    "\n"
   ]
  },
  {
   "cell_type": "markdown",
   "metadata": {},
   "source": [
    "<h3>Numerical data types: int,float, complex</h3>\n",
    "<p></p>"
   ]
  },
  {
   "cell_type": "code",
   "execution_count": 2,
   "metadata": {},
   "outputs": [
    {
     "name": "stdout",
     "output_type": "stream",
     "text": [
      "<class 'int'>\n",
      "28\n",
      "<class 'float'>\n",
      "24\n",
      "<class 'complex'>\n",
      "32\n",
      "<class 'str'>\n",
      "52\n",
      "<class 'str'>\n",
      "59\n",
      "<class 'str'>\n",
      "77\n",
      "<class 'str'>\n",
      "51\n"
     ]
    }
   ],
   "source": [
    "import sys\n",
    "\n",
    "CInt=4333\n",
    "print(type(CInt)) #Integer\n",
    "print(sys.getsizeof(CInt)) #Used to check size of the variable/object\n",
    "\n",
    "CFloat=12313123213123123.4344222222222222222222222\n",
    "\n",
    "print(type(CFloat)) #Float\n",
    "print(sys.getsizeof(CFloat))\n",
    "\n",
    "CComplex=123+124j\n",
    "print(type(CComplex)) #Complex\n",
    "print(sys.getsizeof(CComplex))\n",
    "\n",
    "str='123'\n",
    "print(type(str)) #str\n",
    "print(sys.getsizeof(str))\n",
    "str='1234567890'\n",
    "print(type(str)) #str\n",
    "print(sys.getsizeof(str))\n",
    "str='1234567890123456789012345678'\n",
    "print(type(str)) #str\n",
    "print(sys.getsizeof(str))\n",
    "str=''\n",
    "print(type(str)) #str\n",
    "print(sys.getsizeof(str))\n",
    "\n",
    "ls=list()\n"
   ]
  },
  {
   "cell_type": "code",
   "execution_count": null,
   "metadata": {},
   "outputs": [],
   "source": []
  }
 ],
 "metadata": {
  "kernelspec": {
   "display_name": "Python 3.10.6 64-bit",
   "language": "python",
   "name": "python3"
  },
  "language_info": {
   "codemirror_mode": {
    "name": "ipython",
    "version": 3
   },
   "file_extension": ".py",
   "mimetype": "text/x-python",
   "name": "python",
   "nbconvert_exporter": "python",
   "pygments_lexer": "ipython3",
   "version": "3.10.6"
  },
  "orig_nbformat": 4,
  "vscode": {
   "interpreter": {
    "hash": "369f2c481f4da34e4445cda3fffd2e751bd1c4d706f27375911949ba6bb62e1c"
   }
  }
 },
 "nbformat": 4,
 "nbformat_minor": 2
}
