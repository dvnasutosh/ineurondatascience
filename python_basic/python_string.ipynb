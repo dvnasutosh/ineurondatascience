{
 "cells": [
  {
   "cell_type": "code",
   "execution_count": 1,
   "metadata": {},
   "outputs": [],
   "source": [
    "s= \"ineuron\"\n",
    "s1='ineuron\\'s trial is a good place to start coding'"
   ]
  },
  {
   "cell_type": "code",
   "execution_count": 2,
   "metadata": {},
   "outputs": [
    {
     "data": {
      "text/plain": [
       "str"
      ]
     },
     "execution_count": 2,
     "metadata": {},
     "output_type": "execute_result"
    }
   ],
   "source": [
    "type(s)"
   ]
  },
  {
   "cell_type": "markdown",
   "metadata": {},
   "source": [
    "<img src='./pystringres/strindexingsnip.png' width=400>"
   ]
  },
  {
   "cell_type": "code",
   "execution_count": 3,
   "metadata": {},
   "outputs": [
    {
     "data": {
      "text/plain": [
       "'e'"
      ]
     },
     "execution_count": 3,
     "metadata": {},
     "output_type": "execute_result"
    }
   ],
   "source": [
    "# string indexing\n",
    "s[-1]\n",
    "s[-2]\n",
    "s[-3]\n",
    "s[0]\n",
    "s[1]\n",
    "s[2]"
   ]
  },
  {
   "cell_type": "code",
   "execution_count": 4,
   "metadata": {},
   "outputs": [
    {
     "data": {
      "text/plain": [
       "'iernsti'"
      ]
     },
     "execution_count": 4,
     "metadata": {},
     "output_type": "execute_result"
    }
   ],
   "source": [
    "s1[0:14:2]  #Upper bound is not included "
   ]
  },
  {
   "cell_type": "code",
   "execution_count": 5,
   "metadata": {},
   "outputs": [
    {
     "name": "stdout",
     "output_type": "stream",
     "text": [
      "value of s1[0:40:-1] --> ''\n",
      "value of s1[:20:-1] --> 'gnidoc trats ot ecalp doog'\n"
     ]
    }
   ],
   "source": [
    "# extract from string\n",
    "print(f\"value of s1[0:40:-1] --> '{s1[0:40:-1]}'\")\n",
    "print(f\"value of s1[:20:-1] --> '{s1[:20:-1]}'\")   "
   ]
  },
  {
   "cell_type": "code",
   "execution_count": 6,
   "metadata": {},
   "outputs": [
    {
     "data": {
      "text/plain": [
       "47"
      ]
     },
     "execution_count": 6,
     "metadata": {},
     "output_type": "execute_result"
    }
   ],
   "source": [
    "len(s1)"
   ]
  },
  {
   "cell_type": "code",
   "execution_count": 7,
   "metadata": {},
   "outputs": [
    {
     "data": {
      "text/plain": [
       "'ineuroni'"
      ]
     },
     "execution_count": 7,
     "metadata": {},
     "output_type": "execute_result"
    }
   ],
   "source": [
    "s+'i'"
   ]
  },
  {
   "cell_type": "code",
   "execution_count": 8,
   "metadata": {},
   "outputs": [],
   "source": [
    "s3=s*3"
   ]
  },
  {
   "cell_type": "code",
   "execution_count": 9,
   "metadata": {},
   "outputs": [
    {
     "data": {
      "text/plain": [
       "3"
      ]
     },
     "execution_count": 9,
     "metadata": {},
     "output_type": "execute_result"
    }
   ],
   "source": [
    "s3.count(\"in\")"
   ]
  },
  {
   "cell_type": "code",
   "execution_count": 10,
   "metadata": {},
   "outputs": [],
   "source": [
    "para='''Lorem ipsum dolor sit, amet consectetur adipisicing elit. Corrupti rerum, placeat iste tempore iure nihil reiciendis voluptates maiores eum exercitationem ut natus molestiae cum odit? Quo velit corrupti id deleniti.\n",
    "Cum adipisci laboriosam enim corrupti. Blanditiis, repellat ullam est nihil sit illum, inventore omnis quas autem commodi at. Enim molestias suscipit iste distinctio adipisci aliquam nisi et aliquid assumenda optio.\n",
    "Distinctio sit eligendi itaque beatae! Qui nobis obcaecati quibusdam quis iste a dignissimos sint commodi dolore debitis officiis assumenda doloribus quae quia maxime aliquid nulla, deserunt at explicabo voluptatibus maiores!\n",
    "Et, quam exercitationem dicta id magnam perferendis itaque quod voluptatibus libero, quis mollitia, cum saepe sunt! Recusandae odio quos, laborum ut a sunt quasi dolorem praesentium dicta nostrum totam laboriosam.\n",
    "In vel, laudantium temporibus delectus distinctio maiores natus neque atque assumenda, eligendi aliquam dolores reprehenderit rem repellendus nobis, animi esse nihil consectetur? Consequatur tenetur earum eos nobis unde vel facere.\n",
    "Aut error tempora laboriosam, officiis animi quod aspernatur facere, quos molestiae est quam labore nulla cumque cupiditate quaerat dolor velit fugiat earum voluptatem alias. Possimus hic libero eum fugit! Nemo!\n",
    "Doloribus blanditiis ipsam consequatur vitae minus exercitationem voluptatem culpa! Non, laudantium expedita! Eaque eos corrupti possimus similique dignissimos facere laboriosam adipisci. Molestias sed quas fuga beatae quos facere minima adipisci!\n",
    "Aliquam nesciunt, neque laborum possimus voluptatum vitae doloribus tempora vero est non excepturi esse, eligendi velit illum enim hic eaque doloremque praesentium consequuntur ex quasi. Earum molestias iste sit tempora?'''"
   ]
  },
  {
   "cell_type": "code",
   "execution_count": 11,
   "metadata": {},
   "outputs": [
    {
     "name": "stdout",
     "output_type": "stream",
     "text": [
      "words count:233\n",
      "sentence count:11\n",
      "new line count:8\n"
     ]
    }
   ],
   "source": [
    "word=para.split(' ')\n",
    "sentence=para.split('.')\n",
    "nl=para.split('\\n')\n",
    "print(f\"words count:{len(word)}\")\n",
    "print(f\"sentence count:{len(sentence)}\")\n",
    "print(f\"new line count:{len(nl)}\")\n"
   ]
  },
  {
   "cell_type": "code",
   "execution_count": 12,
   "metadata": {},
   "outputs": [
    {
     "name": "stdout",
     "output_type": "stream",
     "text": [
      "1833\n"
     ]
    }
   ],
   "source": [
    "import sys\n",
    "\n",
    "print(sys.getsizeof(para))"
   ]
  },
  {
   "cell_type": "code",
   "execution_count": 13,
   "metadata": {},
   "outputs": [
    {
     "data": {
      "text/plain": [
       "b'Lorem ipsum dolor sit, amet consectetur adipisicing elit. Corrupti rerum, placeat iste tempore iure nihil reiciendis voluptates maiores eum exercitationem ut natus molestiae cum odit? Quo velit corrupti id deleniti.\\nCum adipisci laboriosam enim corrupti. Blanditiis, repellat ullam est nihil sit illum, inventore omnis quas autem commodi at. Enim molestias suscipit iste distinctio adipisci aliquam nisi et aliquid assumenda optio.\\nDistinctio sit eligendi itaque beatae! Qui nobis obcaecati quibusdam quis iste a dignissimos sint commodi dolore debitis officiis assumenda doloribus quae quia maxime aliquid nulla, deserunt at explicabo voluptatibus maiores!\\nEt, quam exercitationem dicta id magnam perferendis itaque quod voluptatibus libero, quis mollitia, cum saepe sunt! Recusandae odio quos, laborum ut a sunt quasi dolorem praesentium dicta nostrum totam laboriosam.\\nIn vel, laudantium temporibus delectus distinctio maiores natus neque atque assumenda, eligendi aliquam dolores reprehenderit rem repellendus nobis, animi esse nihil consectetur? Consequatur tenetur earum eos nobis unde vel facere.\\nAut error tempora laboriosam, officiis animi quod aspernatur facere, quos molestiae est quam labore nulla cumque cupiditate quaerat dolor velit fugiat earum voluptatem alias. Possimus hic libero eum fugit! Nemo!\\nDoloribus blanditiis ipsam consequatur vitae minus exercitationem voluptatem culpa! Non, laudantium expedita! Eaque eos corrupti possimus similique dignissimos facere laboriosam adipisci. Molestias sed quas fuga beatae quos facere minima adipisci!\\nAliquam nesciunt, neque laborum possimus voluptatum vitae doloribus tempora vero est non excepturi esse, eligendi velit illum enim hic eaque doloremque praesentium consequuntur ex quasi. Earum molestias iste sit tempora?'"
      ]
     },
     "execution_count": 13,
     "metadata": {},
     "output_type": "execute_result"
    }
   ],
   "source": [
    "para.encode()\n",
    "\n"
   ]
  },
  {
   "cell_type": "code",
   "execution_count": 14,
   "metadata": {},
   "outputs": [
    {
     "data": {
      "text/plain": [
       "'INEURONINEURONINEURON'"
      ]
     },
     "execution_count": 14,
     "metadata": {},
     "output_type": "execute_result"
    }
   ],
   "source": [
    "s3.upper()"
   ]
  },
  {
   "cell_type": "code",
   "execution_count": 15,
   "metadata": {},
   "outputs": [
    {
     "data": {
      "text/plain": [
       "'Lorem Ipsum Dolor Sit, Amet Consectetur Adipisicing Elit. Corrupti Rerum, Placeat Iste Tempore Iure Nihil Reiciendis Voluptates Maiores Eum Exercitationem Ut Natus Molestiae Cum Odit? Quo Velit Corrupti Id Deleniti.\\nCum Adipisci Laboriosam Enim Corrupti. Blanditiis, Repellat Ullam Est Nihil Sit Illum, Inventore Omnis Quas Autem Commodi At. Enim Molestias Suscipit Iste Distinctio Adipisci Aliquam Nisi Et Aliquid Assumenda Optio.\\nDistinctio Sit Eligendi Itaque Beatae! Qui Nobis Obcaecati Quibusdam Quis Iste A Dignissimos Sint Commodi Dolore Debitis Officiis Assumenda Doloribus Quae Quia Maxime Aliquid Nulla, Deserunt At Explicabo Voluptatibus Maiores!\\nEt, Quam Exercitationem Dicta Id Magnam Perferendis Itaque Quod Voluptatibus Libero, Quis Mollitia, Cum Saepe Sunt! Recusandae Odio Quos, Laborum Ut A Sunt Quasi Dolorem Praesentium Dicta Nostrum Totam Laboriosam.\\nIn Vel, Laudantium Temporibus Delectus Distinctio Maiores Natus Neque Atque Assumenda, Eligendi Aliquam Dolores Reprehenderit Rem Repellendus Nobis, Animi Esse Nihil Consectetur? Consequatur Tenetur Earum Eos Nobis Unde Vel Facere.\\nAut Error Tempora Laboriosam, Officiis Animi Quod Aspernatur Facere, Quos Molestiae Est Quam Labore Nulla Cumque Cupiditate Quaerat Dolor Velit Fugiat Earum Voluptatem Alias. Possimus Hic Libero Eum Fugit! Nemo!\\nDoloribus Blanditiis Ipsam Consequatur Vitae Minus Exercitationem Voluptatem Culpa! Non, Laudantium Expedita! Eaque Eos Corrupti Possimus Similique Dignissimos Facere Laboriosam Adipisci. Molestias Sed Quas Fuga Beatae Quos Facere Minima Adipisci!\\nAliquam Nesciunt, Neque Laborum Possimus Voluptatum Vitae Doloribus Tempora Vero Est Non Excepturi Esse, Eligendi Velit Illum Enim Hic Eaque Doloremque Praesentium Consequuntur Ex Quasi. Earum Molestias Iste Sit Tempora?'"
      ]
     },
     "execution_count": 15,
     "metadata": {},
     "output_type": "execute_result"
    }
   ],
   "source": [
    "para.title() #helps capitalize all word's first letter\n"
   ]
  },
  {
   "cell_type": "markdown",
   "metadata": {},
   "source": [
    "<img src='./pystringres/strjoin.png' width=600>"
   ]
  },
  {
   "cell_type": "code",
   "execution_count": 16,
   "metadata": {},
   "outputs": [
    {
     "data": {
      "text/plain": [
       "'i n e u r o n'"
      ]
     },
     "execution_count": 16,
     "metadata": {},
     "output_type": "execute_result"
    }
   ],
   "source": [
    "' '.join(s)\n"
   ]
  },
  {
   "cell_type": "code",
   "execution_count": 18,
   "metadata": {},
   "outputs": [
    {
     "data": {
      "text/plain": [
       "'\\x08\\x08\\x08\\x08\\x08\\x08ineuron\\x08\\x08\\x08\\x08\\x08\\x08\\x08'"
      ]
     },
     "execution_count": 18,
     "metadata": {},
     "output_type": "execute_result"
    }
   ],
   "source": [
    "s.center(20,'\\b')"
   ]
  }
 ],
 "metadata": {
  "kernelspec": {
   "display_name": "Python 3.10.6 64-bit",
   "language": "python",
   "name": "python3"
  },
  "language_info": {
   "codemirror_mode": {
    "name": "ipython",
    "version": 3
   },
   "file_extension": ".py",
   "mimetype": "text/x-python",
   "name": "python",
   "nbconvert_exporter": "python",
   "pygments_lexer": "ipython3",
   "version": "3.10.6"
  },
  "orig_nbformat": 4,
  "vscode": {
   "interpreter": {
    "hash": "369f2c481f4da34e4445cda3fffd2e751bd1c4d706f27375911949ba6bb62e1c"
   }
  }
 },
 "nbformat": 4,
 "nbformat_minor": 2
}
