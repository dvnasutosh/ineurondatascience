{
 "cells": [
  {
   "cell_type": "markdown",
   "metadata": {},
   "source": [
    "# Data Science Lifecycle\n",
    "> 1. Data Ingestion\n",
    "> 2. EDA(analysis)\n",
    "> 3. Processing(Pre)\n",
    "> 4. Modelling\n",
    "> 5. Evaluating and validating\n"
   ]
  },
  {
   "cell_type": "markdown",
   "metadata": {},
   "source": [
    "# Statistics\n",
    "- Insight about dataset\n",
    "  - Collect\n",
    "  - organise\n",
    "  - Interprete\n",
    "  - Analyze\n",
    "\n",
    "## Application\n",
    "- Scientific\n",
    "- Medical\n",
    "- Social\n",
    "- Financial"
   ]
  },
  {
   "cell_type": "markdown",
   "metadata": {},
   "source": [
    "Sales of product going down, why?\n",
    "- Product not unique\n",
    "- Bad customer review\n",
    "- Bad leadership\n",
    "- Can't retain customer\n",
    "- Product cant hold attention of customers\n",
    "- Product has short usage period"
   ]
  },
  {
   "cell_type": "markdown",
   "metadata": {},
   "source": [
    "### Domain Experts\n",
    "- Project Manager\n",
    "- Business analtics\n",
    "- Data Scientist"
   ]
  },
  {
   "cell_type": "markdown",
   "metadata": {},
   "source": [
    "### Tendency(Types) of Data:\n",
    "- Batch Data(Historic or periodic)\n",
    "- Mini batch data(Little more frequent)\n",
    "- streaming data(Continuous data)\n",
    "\n",
    "### types based on structure\n",
    "1. structured data(e.g. table)\n",
    "2. unstructured data(e.g. Video , voice, image , text) - *solved using deep learning*\n",
    "3. Semi Structured Data(xml, json)"
   ]
  },
  {
   "cell_type": "markdown",
   "metadata": {},
   "source": [
    "**Structured Data**\n",
    "- Numeric\n",
    "  - Continuous\n",
    "  - Discrete\n",
    "- Category\n",
    "  - Nominal\n",
    "  - Ordinal\n"
   ]
  },
  {
   "cell_type": "markdown",
   "metadata": {},
   "source": [
    "# Types of Analysis\n",
    "- Univariate(1 features Involved)\n",
    "- Bivariate(2 features Involved)\n",
    "- Multivariate(>2 features Involved)"
   ]
  },
  {
   "cell_type": "markdown",
   "metadata": {},
   "source": [
    "# Types of variable\n",
    "- Independant\n",
    "- Dependant"
   ]
  },
  {
   "cell_type": "markdown",
   "metadata": {},
   "source": [
    "    "
   ]
  },
  {
   "cell_type": "markdown",
   "metadata": {},
   "source": []
  },
  {
   "cell_type": "code",
   "execution_count": null,
   "metadata": {},
   "outputs": [],
   "source": []
  }
 ],
 "metadata": {
  "language_info": {
   "name": "python"
  },
  "orig_nbformat": 4
 },
 "nbformat": 4,
 "nbformat_minor": 2
}
