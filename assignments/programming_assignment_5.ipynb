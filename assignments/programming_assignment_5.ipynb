{
 "cells": [
  {
   "cell_type": "code",
   "execution_count": 18,
   "metadata": {},
   "outputs": [
    {
     "name": "stdout",
     "output_type": "stream",
     "text": [
      "enter a Numbers to find LCM of.\n",
      " Enter any thing other than number to terminate. \n",
      "lcm= 72\n"
     ]
    }
   ],
   "source": [
    "# Write a Python Program to Find LCM?\n",
    "def findNexPrime(a):\n",
    "    found= False\n",
    "    while not found:\n",
    "        a+=1\n",
    "        for i in range(2,int(a/2)):\n",
    "            if a%i:\n",
    "                continue\n",
    "            else:\n",
    "                break\n",
    "        else:\n",
    "            found = True\n",
    "    return a\n",
    "\n",
    "\n",
    "mult=[]\n",
    "nos=[]\n",
    "lcm=0\n",
    "\n",
    "print('enter a Numbers to find LCM of.\\n Enter any thing other than number to terminate. ')\n",
    "m=True\n",
    "while m:    #While m is True\n",
    "    s=input()   #Gets an Input\n",
    "    if s==None or not str.isdigit(s):   # \n",
    "        m=False\n",
    "        continue\n",
    "    s=int(s)\n",
    "    nos.append(s)\n",
    "    if s==0:\n",
    "        mult=[0]\n",
    "        break\n",
    "else:\n",
    "    lcm = 2\n",
    "    flag=0\n",
    "    \n",
    "    while True:\n",
    "        for i in range(len(nos)):\n",
    "            if not nos[i]%lcm:\n",
    "                nos[i]/=lcm\n",
    "                flag+=1 #This Flags that lcm is to be incl. in mult\n",
    "        if flag:\n",
    "            mult.append(lcm) #if flag int 0 than\n",
    "            flag=0 \n",
    "            continue\n",
    "        else:\n",
    "            if all([p==1 for p in nos]):\n",
    "                break\n",
    "            lcm = findNexPrime(lcm)\n",
    "    lcm=1\n",
    "    for i in mult:\n",
    "        lcm*=i\n",
    "print('lcm=',lcm)\n"
   ]
  },
  {
   "cell_type": "code",
   "execution_count": 21,
   "metadata": {},
   "outputs": [
    {
     "name": "stdout",
     "output_type": "stream",
     "text": [
      "enter a Numbers to find HCF of.\n",
      " Enter any thing other than number to terminate. \n",
      "1\n"
     ]
    }
   ],
   "source": [
    "\n",
    "# Write a Python Program to Find HCF?\n",
    "print('enter a Numbers to find HCF of.\\n Enter any thing other than number to terminate. ')\n",
    "def findNexPrime(a):\n",
    "    found= False\n",
    "    while not found:\n",
    "        a+=1\n",
    "        for i in range(2,int(a/2)):\n",
    "            if a%i:\n",
    "                continue\n",
    "            else:\n",
    "                break\n",
    "        else:\n",
    "            found = True\n",
    "    return a\n",
    "nos=[]\n",
    "hcf=1\n",
    "p=2\n",
    "\n",
    "m=True\n",
    "while m:    #While m is True\n",
    "    s=input()   #Gets an Input\n",
    "    if s==None or not str.isdigit(s):   # \n",
    "        m=False\n",
    "        continue\n",
    "    s=int(s)\n",
    "    nos.append(s)\n",
    "    if s==0:\n",
    "        mult=[0]\n",
    "        break\n",
    "else:\n",
    "    p=2\n",
    "    while max(nos)>p:\n",
    "        while all([i%p==0 for i in nos]): # if p is divisible by all nos\n",
    "            nos=[i/p for i in nos]\n",
    "            hcf*=p\n",
    "        else:\n",
    "            p = findNexPrime(p)\n",
    "    \n",
    "    print(hcf)\n",
    "            \n",
    "        \n",
    "            \n",
    "            \n",
    "        "
   ]
  },
  {
   "cell_type": "code",
   "execution_count": 37,
   "metadata": {},
   "outputs": [
    {
     "name": "stdout",
     "output_type": "stream",
     "text": [
      "{2: '1111011', 8: '173', 16: '7B'}\n"
     ]
    }
   ],
   "source": [
    "# 3. Write a Python Program to Convert Decimal to Binary, Octal and Hexadecimal?\n",
    "binary=hexadecimal=octal=''\n",
    "converted={\n",
    "    2:'',\n",
    "    8:'',\n",
    "    16:''\n",
    "}\n",
    "s=input('Give decimal no.')\n",
    "if str.isdigit(s):\n",
    "    for i in [2,8,16]:\n",
    "        temp=int(s)\n",
    "        while temp:\n",
    "            if temp%i>9:\n",
    "                converted[i]=chr((temp%i)+55)+converted[i]\n",
    "            else:\n",
    "                converted[i]=str(temp%i)+converted[i]\n",
    "            temp=int(temp/i)\n",
    "print(converted)\n",
    "        "
   ]
  },
  {
   "cell_type": "code",
   "execution_count": 40,
   "metadata": {},
   "outputs": [
    {
     "name": "stdout",
     "output_type": "stream",
     "text": [
      "50\n"
     ]
    }
   ],
   "source": [
    "# 4. Write a Python Program To Find ASCII value of a character?\n",
    "\n",
    "print(ord(input('Enter your character:')))"
   ]
  },
  {
   "cell_type": "code",
   "execution_count": 1,
   "metadata": {},
   "outputs": [
    {
     "data": {
      "text/plain": [
       "6"
      ]
     },
     "execution_count": 1,
     "metadata": {},
     "output_type": "execute_result"
    }
   ],
   "source": [
    "# 5. Write a Python Program to Make a Simple Calculator with 4 basic mathematical operations?\n",
    "def basic_calculator(a,b,operand):\n",
    "    if operand=='+':\n",
    "        return a+b\n",
    "    if operand == '-':\n",
    "        return a-b\n",
    "    \n",
    "    if operand == '*':\n",
    "        return a*b\n",
    "    \n",
    "    if operand == '/':\n",
    "        return a/b\n",
    "    else:\n",
    "        raise ValueError(f'Invalid operand {operand}')\n",
    "\n",
    "# basic_calculator(2,3,'*')\n",
    "a=float(input('Enter operator A:'))\n",
    "b=float(input('Enter operator B:'))\n",
    "c=input('Enter the Operand:')\n",
    "\n"
   ]
  }
 ],
 "metadata": {
  "kernelspec": {
   "display_name": "Python 3.10.6 ('mysql': venv)",
   "language": "python",
   "name": "python3"
  },
  "language_info": {
   "codemirror_mode": {
    "name": "ipython",
    "version": 3
   },
   "file_extension": ".py",
   "mimetype": "text/x-python",
   "name": "python",
   "nbconvert_exporter": "python",
   "pygments_lexer": "ipython3",
   "version": "3.10.6"
  },
  "orig_nbformat": 4,
  "vscode": {
   "interpreter": {
    "hash": "8dfb715010ddda02a96dd40203bd9f60afbd2eb8e825097f44ff794c1c3116c5"
   }
  }
 },
 "nbformat": 4,
 "nbformat_minor": 2
}
