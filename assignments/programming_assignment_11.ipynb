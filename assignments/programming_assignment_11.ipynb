{
 "cells": [
  {
   "cell_type": "code",
   "execution_count": 4,
   "metadata": {},
   "outputs": [
    {
     "name": "stdout",
     "output_type": "stream",
     "text": [
      "There\n",
      "three\n",
      "sphered\n",
      "rocks\n",
      "congregating\n",
      "cubed\n",
      "roomEverybody\n",
      "should\n",
      "Chaucer\n",
      "improve\n",
      "their\n",
      "everyday\n",
      "vocabularyThe\n",
      "light\n",
      "burns\n",
      "twice\n",
      "bright\n",
      "burns\n",
      "longKaren\n",
      "realized\n",
      "getting\n",
      "heaven\n",
      "cheatTheres\n",
      "reason\n",
      "roses\n",
      "thorns8\n",
      "easier\n",
      "headHe\n",
      "liked\n",
      "Christmas\n",
      "lights\n",
      "house\n",
      "middle\n",
      "JulyCourage\n",
      "stupidity\n",
      "hadHe\n",
      "exciting\n",
      "adventure\n",
      "storyThe\n",
      "tumbleweed\n",
      "refused\n",
      "tumble\n",
      "willing\n",
      "pranceShe\n",
      "cheat\n",
      "right\n",
      "thing\n",
      "doNobody\n",
      "questions\n",
      "built\n",
      "pyramids\n",
      "Mexico\n"
     ]
    }
   ],
   "source": [
    "# 1. Write a Python program to find words which are greater than given length k?\n",
    "k=int(input('Input length Constraint: '))\n",
    "s = r'''\n",
    "There were three sphered rocks congregating in a cubed room.\n",
    "Everybody should read Chaucer to improve their everyday vocabulary.\n",
    "The light that burns twice as bright burns half as long.\n",
    "Karen realized the only way she was getting into heaven was to cheat.\n",
    "There's a reason that roses have thorns.\n",
    "8% of 25 is the same as 25% of 8 and one of them is much easier to do in your head.\n",
    "He was the type of guy who liked Christmas lights on his house in the middle of July.\n",
    "Courage and stupidity were all he had.\n",
    "He told us a very exciting adventure story.\n",
    "The tumbleweed refused to tumble but was more than willing to prance.\n",
    "She did not cheat on the test, for it was not the right thing to do.\n",
    "Nobody questions who built the pyramids in Mexico.\n",
    "'''\n",
    "\n",
    "import string\n",
    "slist=[i for i in s if str.upper(i) in string.digits + string.ascii_uppercase +' ']\n",
    "for i in ''.join(slist).split():\n",
    "    if len(i)>=k:\n",
    "        print(i)\n"
   ]
  },
  {
   "cell_type": "code",
   "execution_count": 6,
   "metadata": {},
   "outputs": [
    {
     "name": "stdout",
     "output_type": "stream",
     "text": [
      "Asutsh Rath\n"
     ]
    }
   ],
   "source": [
    "# 2. Write a Python program for removing i-th character from a string?\n",
    "r=int(input())\n",
    "strr='Asutosh Rath'\n",
    "print(strr[:r]+strr[r+1:])\n"
   ]
  },
  {
   "cell_type": "code",
   "execution_count": 11,
   "metadata": {},
   "outputs": [
    {
     "data": {
      "text/plain": [
       "\"There were three sphered rocks congregating in a cubed room. Everybody should read Chaucer to improve their everyday vocabulary. The light that burns twice as bright burns half as long. Karen realized the only way she was getting into heaven was to cheat. There's a reason that roses have thorns. 8% of 25 is the same as 25% of 8 and one of them is much easier to do in your head. He was the type of guy who liked Christmas lights on his house in the middle of July. Courage and stupidity were all he had. He told us a very exciting adventure story. The tumbleweed refused to tumble but was more than willing to prance. She did not cheat on the test, for it was not the right thing to do. Nobody questions who built the pyramids in Mexico.\""
      ]
     },
     "execution_count": 11,
     "metadata": {},
     "output_type": "execute_result"
    }
   ],
   "source": [
    "# 3. Write a Python program to split and join a string?\n",
    "\n",
    "s = r'''\n",
    "There were three sphered rocks congregating in a cubed room.\n",
    "Everybody should read Chaucer to improve their everyday vocabulary.\n",
    "The light that burns twice as bright burns half as long.\n",
    "Karen realized the only way she was getting into heaven was to cheat.\n",
    "There's a reason that roses have thorns.\n",
    "8% of 25 is the same as 25% of 8 and one of them is much easier to do in your head.\n",
    "He was the type of guy who liked Christmas lights on his house in the middle of July.\n",
    "Courage and stupidity were all he had.\n",
    "He told us a very exciting adventure story.\n",
    "The tumbleweed refused to tumble but was more than willing to prance.\n",
    "She did not cheat on the test, for it was not the right thing to do.\n",
    "Nobody questions who built the pyramids in Mexico.\n",
    "'''\n",
    "import string\n",
    "' '.join(s.split())"
   ]
  },
  {
   "cell_type": "code",
   "execution_count": 19,
   "metadata": {},
   "outputs": [
    {
     "data": {
      "text/plain": [
       "False"
      ]
     },
     "execution_count": 19,
     "metadata": {},
     "output_type": "execute_result"
    }
   ],
   "source": [
    "# 4. Write a Python to check if a given string is binary string or not?\n",
    "s=input('Enter string')\n",
    "\n",
    "all([int(i) in {0,1} for i in set(s)])"
   ]
  },
  {
   "cell_type": "code",
   "execution_count": 29,
   "metadata": {},
   "outputs": [
    {
     "data": {
      "text/plain": [
       "['newspaper', 'there', 'catalogue', 'here']"
      ]
     },
     "execution_count": 29,
     "metadata": {},
     "output_type": "execute_result"
    }
   ],
   "source": [
    "# 5. Write a Python program to find uncommon words from two Strings?\n",
    "a='Here is a a catalogue'\n",
    "b='There is a newspaper'\n",
    "\n",
    "a={*map(str.lower,a.split())}\n",
    "b={*map(str.lower,b.split())}\n",
    "\n",
    "uncommon=[i for i in {*([*a]+[*b])} if not (i in a and i in b)]\n",
    "uncommon"
   ]
  },
  {
   "cell_type": "code",
   "execution_count": 1,
   "metadata": {},
   "outputs": [
    {
     "data": {
      "text/plain": [
       "['i',\n",
       " 'l',\n",
       " 'm',\n",
       " 'H',\n",
       " 'b',\n",
       " 'p',\n",
       " '8',\n",
       " 'C',\n",
       " '.',\n",
       " 'e',\n",
       " 'v',\n",
       " 'h',\n",
       " 'o',\n",
       " '%',\n",
       " '2',\n",
       " 'T',\n",
       " 'u',\n",
       " 'k',\n",
       " 'a',\n",
       " 't',\n",
       " '5',\n",
       " '\\n',\n",
       " ' ',\n",
       " 'f',\n",
       " 'n',\n",
       " 'g',\n",
       " 'c',\n",
       " 'd',\n",
       " 'y',\n",
       " 'r',\n",
       " 's',\n",
       " 'x',\n",
       " 'w']"
      ]
     },
     "execution_count": 1,
     "metadata": {},
     "output_type": "execute_result"
    }
   ],
   "source": [
    "# 6. Write a Python to find all duplicate characters in string?\n",
    "s = r'''\n",
    "There were three sphered rocks congregating in a cubed room.\n",
    "Everybody should read Chaucer to improve their everyday vocabulary.\n",
    "The light that burns twice as bright burns half as long.\n",
    "Karen realized the only way she was getting into heaven was to cheat.\n",
    "There's a reason that roses have thorns.\n",
    "8% of 25 is the same as 25% of 8 and one of them is much easier to do in your head.\n",
    "He was the type of guy who liked Christmas lights on his house in the middle of July.\n",
    "Courage and stupidity were all he had.\n",
    "He told us a very exciting adventure story.\n",
    "The tumbleweed refused to tumble but was more than willing to prance.\n",
    "She did not cheat on the test, for it was not the right thing to do.\n",
    "Nobody questions who built the pyramids in Mexico.\n",
    "'''\n",
    "\n",
    "dups=[i for i in set([*s]) if s.count(i)-1]  # It does the job\n",
    "dups\n",
    "    \n"
   ]
  },
  {
   "cell_type": "code",
   "execution_count": 43,
   "metadata": {},
   "outputs": [
    {
     "data": {
      "text/plain": [
       "False"
      ]
     },
     "execution_count": 43,
     "metadata": {},
     "output_type": "execute_result"
    }
   ],
   "source": [
    "# 7. Write a Python Program to check if a string contains any special character?\n",
    "s = r'''\n",
    "There were three sphered rocks congregating in a cubed room.\n",
    "Everybody should read Chaucer to improve their everyday vocabulary.\n",
    "The light that burns twice as bright burns half as long.\n",
    "Karen realized the only way she was getting into heaven was to cheat.\n",
    "There's a reason that roses have thorns.\n",
    "8% of 25 is the same as 25% of 8 and one of them is much easier to do in your head.\n",
    "He was the type of guy who liked Christmas lights on his house in the middle of July.\n",
    "Courage and stupidity were all he had.\n",
    "He told us a very exciting adventure story.\n",
    "The tumbleweed refused to tumble but was more than willing to prance.\n",
    "She did not cheat on the test, for it was not the right thing to do.\n",
    "Nobody questions who built the pyramids in Mexico.\n",
    "'''\n",
    "\n",
    "def hasSpecialChar(strs:str):\n",
    "    specialchr=['\\v', '\\'', '\\\"', '\\\\', '\\f', '\\r', '\\t', '\\n']\n",
    "    \n",
    "    for i in (strs if strs.__len__()<=specialchr.__len__() else specialchr):\n",
    "        \n",
    "        if i in (strs if strs.__len__()>specialchr.__len__() else specialchr):\n",
    "            \n",
    "            return True\n",
    "    \n",
    "    return False\n",
    "# trial='\\n,\\f'\n",
    "hasSpecialChar('addd')"
   ]
  },
  {
   "cell_type": "code",
   "execution_count": null,
   "metadata": {},
   "outputs": [],
   "source": []
  }
 ],
 "metadata": {
  "kernelspec": {
   "display_name": "mysql",
   "language": "python",
   "name": "python3"
  },
  "language_info": {
   "codemirror_mode": {
    "name": "ipython",
    "version": 3
   },
   "file_extension": ".py",
   "mimetype": "text/x-python",
   "name": "python",
   "nbconvert_exporter": "python",
   "pygments_lexer": "ipython3",
   "version": "3.10.6"
  },
  "orig_nbformat": 4,
  "vscode": {
   "interpreter": {
    "hash": "8dfb715010ddda02a96dd40203bd9f60afbd2eb8e825097f44ff794c1c3116c5"
   }
  }
 },
 "nbformat": 4,
 "nbformat_minor": 2
}
