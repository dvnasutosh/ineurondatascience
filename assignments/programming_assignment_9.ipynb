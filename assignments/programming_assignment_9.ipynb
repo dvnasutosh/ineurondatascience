{
 "cells": [
  {
   "cell_type": "code",
   "execution_count": 1,
   "metadata": {},
   "outputs": [
    {
     "ename": "ValueError",
     "evalue": "invalid literal for int() with base 10: ''",
     "output_type": "error",
     "traceback": [
      "\u001b[1;31m---------------------------------------------------------------------------\u001b[0m",
      "\u001b[1;31mValueError\u001b[0m                                Traceback (most recent call last)",
      "Cell \u001b[1;32mIn [1], line 2\u001b[0m\n\u001b[0;32m      1\u001b[0m \u001b[39m# 1. Write a Python program to check if the given number is a Disarium Number?\u001b[39;00m\n\u001b[1;32m----> 2\u001b[0m num \u001b[39m=\u001b[39m \u001b[39mint\u001b[39;49m(\u001b[39minput\u001b[39;49m(\u001b[39m'\u001b[39;49m\u001b[39mEnter a Number: \u001b[39;49m\u001b[39m'\u001b[39;49m))\n\u001b[0;32m      4\u001b[0m \u001b[39mdef\u001b[39;00m \u001b[39misDisarium\u001b[39m(num:\u001b[39mint\u001b[39m):    \n\u001b[0;32m      5\u001b[0m     dis\u001b[39m=\u001b[39m\u001b[39m0\u001b[39m\n",
      "\u001b[1;31mValueError\u001b[0m: invalid literal for int() with base 10: ''"
     ]
    }
   ],
   "source": [
    "# 1. Write a Python program to check if the given number is a Disarium Number?\n",
    "num = int(input('Enter a Number: '))\n",
    "\n",
    "def isDisarium(num:int):    \n",
    "    dis=0\n",
    "    for i in range(len(str(num))):\n",
    "        dis += int( str(num)[i] )  ** (i+1)\n",
    "\n",
    "    if dis==num:\n",
    "        return True\n",
    "    else:\n",
    "        return False\n",
    "if isDisarium(num):    \n",
    "    print(num,' is disarium number')\n",
    "else:\n",
    "    print(num,' is not disarium number')"
   ]
  },
  {
   "cell_type": "code",
   "execution_count": null,
   "metadata": {},
   "outputs": [
    {
     "data": {
      "text/plain": [
       "[1, 2, 3, 4, 5, 6, 7, 8, 9, 89]"
      ]
     },
     "execution_count": 3,
     "metadata": {},
     "output_type": "execute_result"
    }
   ],
   "source": [
    "# 2. Write a Python program to print all disarium numbers between 1 to 100?\n",
    "\n",
    "def isDisarium(num:int):    \n",
    "    dis=0\n",
    "    for i in range(len(str(num))):\n",
    "        dis += int( str(num)[i] )  ** (i+1)\n",
    "\n",
    "    if dis==num:\n",
    "        return True\n",
    "    else:\n",
    "        return False\n",
    "\n",
    "disarium=[i for i in range(1,101) if isDisarium(i)]\n",
    "disarium\n"
   ]
  },
  {
   "cell_type": "code",
   "execution_count": 8,
   "metadata": {},
   "outputs": [
    {
     "name": "stdout",
     "output_type": "stream",
     "text": [
      "True\n"
     ]
    }
   ],
   "source": [
    "# 3. Write a Python program to check if the given number is Happy Number?\n",
    "def isHappy(num,b:list=[]):\n",
    "    digsq=0\n",
    "    for i in range(len(str(num))):\n",
    "        digsq += int( str(num)[i] )  ** (2)\n",
    "    \n",
    "    if digsq==1:\n",
    "        return True\n",
    "    elif digsq in b:\n",
    "        del(b,num)\n",
    "        return False\n",
    "    else:\n",
    "        b.append(digsq)\n",
    "        return isHappy(digsq,b)\n",
    "    \n",
    "print(isHappy(7))\n",
    "# 1 7 10 13 19 23 28 31 32 44 49 68 70 79 82 86 91 94 97 100 \n",
    "del"
   ]
  },
  {
   "cell_type": "code",
   "execution_count": null,
   "metadata": {},
   "outputs": [],
   "source": [
    "a=v=b=None"
   ]
  },
  {
   "cell_type": "code",
   "execution_count": 18,
   "metadata": {},
   "outputs": [
    {
     "data": {
      "text/plain": [
       "[1, 10]"
      ]
     },
     "execution_count": 18,
     "metadata": {},
     "output_type": "execute_result"
    }
   ],
   "source": [
    "# 4. Write a Python program to print all happy numbers between 1 and 100?\n",
    "\n",
    "[i for i in range(100) if isHappy(i)]\n",
    "    "
   ]
  },
  {
   "cell_type": "code",
   "execution_count": null,
   "metadata": {},
   "outputs": [
    {
     "data": {
      "text/plain": [
       "True"
      ]
     },
     "execution_count": 28,
     "metadata": {},
     "output_type": "execute_result"
    }
   ],
   "source": [
    "# 5. Write a Python program to determine whether the given number is a Harshad Number?\n",
    "def isharshadNumber(num:int) -> bool:\n",
    "    return not num%sum(list(map(int,num.__str__())))\n",
    "isharshadNumber(10)  "
   ]
  },
  {
   "cell_type": "code",
   "execution_count": null,
   "metadata": {},
   "outputs": [
    {
     "data": {
      "text/plain": [
       "0"
      ]
     },
     "execution_count": 25,
     "metadata": {},
     "output_type": "execute_result"
    }
   ],
   "source": [
    "a=10\n",
    "a%sum(list(map(int,a.__str__())))\n"
   ]
  }
 ],
 "metadata": {
  "kernelspec": {
   "display_name": "mysql",
   "language": "python",
   "name": "python3"
  },
  "language_info": {
   "codemirror_mode": {
    "name": "ipython",
    "version": 3
   },
   "file_extension": ".py",
   "mimetype": "text/x-python",
   "name": "python",
   "nbconvert_exporter": "python",
   "pygments_lexer": "ipython3",
   "version": "3.10.6"
  },
  "orig_nbformat": 4,
  "vscode": {
   "interpreter": {
    "hash": "8dfb715010ddda02a96dd40203bd9f60afbd2eb8e825097f44ff794c1c3116c5"
   }
  }
 },
 "nbformat": 4,
 "nbformat_minor": 2
}
