{
 "cells": [
  {
   "cell_type": "code",
   "execution_count": 1,
   "metadata": {},
   "outputs": [
    {
     "name": "stdout",
     "output_type": "stream",
     "text": [
      "13  is not disarium number\n"
     ]
    }
   ],
   "source": [
    "# 1. Write a Python program to check if the given number is a Disarium Number?\n",
    "num = int(input('Enter a Number: '))\n",
    "\n",
    "def isDisarium(num:int):    \n",
    "    dis=0\n",
    "    for i in range(len(str(num))):\n",
    "        dis += int( str(num)[i] )  ** (i+1)\n",
    "\n",
    "    if dis==num:\n",
    "        return True\n",
    "    else:\n",
    "        return False\n",
    "if isDisarium(num):    \n",
    "    print(num,' is disarium number')\n",
    "else:\n",
    "    print(num,' is not disarium number')"
   ]
  },
  {
   "cell_type": "code",
   "execution_count": 2,
   "metadata": {},
   "outputs": [
    {
     "data": {
      "text/plain": [
       "[1, 2, 3, 4, 5, 6, 7, 8, 9, 89]"
      ]
     },
     "execution_count": 2,
     "metadata": {},
     "output_type": "execute_result"
    }
   ],
   "source": [
    "# 2. Write a Python program to print all disarium numbers between 1 to 100?\n",
    "\n",
    "def isDisarium(num:int):    \n",
    "    dis=0\n",
    "    for i in range(len(str(num))):\n",
    "        dis += int( str(num)[i] )  ** (i+1)\n",
    "\n",
    "    if dis==num:\n",
    "        return True\n",
    "    else:\n",
    "        return False\n",
    "\n",
    "disarium=[i for i in range(1,101) if isDisarium(i)]\n",
    "disarium\n"
   ]
  },
  {
   "cell_type": "code",
   "execution_count": 7,
   "metadata": {},
   "outputs": [
    {
     "data": {
      "text/plain": [
       "True"
      ]
     },
     "execution_count": 7,
     "metadata": {},
     "output_type": "execute_result"
    }
   ],
   "source": [
    "# 3. Write a Python program to check if the given number is Happy Number?\n",
    "def isHappy(num,b:list=[]):\n",
    "    digsq=0\n",
    "    for i in range(len(str(num))):\n",
    "        digsq += int( str(num)[i] )  ** (2)\n",
    "    \n",
    "    if digsq==1:\n",
    "        b.clear()\n",
    "        return True\n",
    "    elif digsq in b:\n",
    "        b.clear()\n",
    "        return False\n",
    "    else:\n",
    "        b.append(digsq)\n",
    "        ret=isHappy(digsq,b)\n",
    "        b.clear()\n",
    "        \n",
    "        return ret   \n",
    "isHappy(10)"
   ]
  },
  {
   "cell_type": "code",
   "execution_count": 4,
   "metadata": {},
   "outputs": [
    {
     "data": {
      "text/plain": [
       "[1, 7, 10, 13, 19, 23, 28, 31, 32, 44, 49, 68, 70, 79, 82, 86, 91, 94, 97]"
      ]
     },
     "execution_count": 4,
     "metadata": {},
     "output_type": "execute_result"
    }
   ],
   "source": [
    "# 4. Write a Python program to print all happy numbers between 1 and 100?\n",
    "\n",
    "    \n",
    "[i for i in range(100) if isHappy(i)]\n",
    "    "
   ]
  },
  {
   "cell_type": "code",
   "execution_count": 5,
   "metadata": {},
   "outputs": [
    {
     "data": {
      "text/plain": [
       "True"
      ]
     },
     "execution_count": 5,
     "metadata": {},
     "output_type": "execute_result"
    }
   ],
   "source": [
    "# 5. Write a Python program to determine whether the given number is a Harshad Number?\n",
    "def isharshadNumber(num:int) -> bool:\n",
    "    return not num%sum(list(map(int,num.__str__())))\n",
    "isharshadNumber(10)  "
   ]
  },
  {
   "cell_type": "code",
   "execution_count": 9,
   "metadata": {},
   "outputs": [
    {
     "data": {
      "text/plain": [
       "[2, 6, 12, 20, 30, 42, 56, 72, 90]"
      ]
     },
     "execution_count": 9,
     "metadata": {},
     "output_type": "execute_result"
    }
   ],
   "source": [
    "# 6. Write a Python program to print all pronic numbers between 1 and 100?\n",
    "import math\n",
    "\n",
    "def isPronic(inp: int):\n",
    "    for i in range(1,math.ceil(math.sqrt(inp))):\n",
    "        if i*(i+1)==inp:\n",
    "            return True\n",
    "    return False\n",
    "        \n",
    "[i for i in range(1,101) if isPronic(i)]        \n"
   ]
  },
  {
   "cell_type": "code",
   "execution_count": 8,
   "metadata": {},
   "outputs": [
    {
     "data": {
      "text/plain": [
       "0"
      ]
     },
     "execution_count": 8,
     "metadata": {},
     "output_type": "execute_result"
    }
   ],
   "source": [
    "\n"
   ]
  },
  {
   "cell_type": "code",
   "execution_count": null,
   "metadata": {},
   "outputs": [],
   "source": []
  }
 ],
 "metadata": {
  "kernelspec": {
   "display_name": "mysql",
   "language": "python",
   "name": "python3"
  },
  "language_info": {
   "codemirror_mode": {
    "name": "ipython",
    "version": 3
   },
   "file_extension": ".py",
   "mimetype": "text/x-python",
   "name": "python",
   "nbconvert_exporter": "python",
   "pygments_lexer": "ipython3",
   "version": "3.10.6"
  },
  "orig_nbformat": 4,
  "vscode": {
   "interpreter": {
    "hash": "8dfb715010ddda02a96dd40203bd9f60afbd2eb8e825097f44ff794c1c3116c5"
   }
  }
 },
 "nbformat": 4,
 "nbformat_minor": 2
}
