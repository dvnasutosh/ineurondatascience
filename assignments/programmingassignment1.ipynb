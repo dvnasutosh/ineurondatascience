{
 "cells": [
  {
   "cell_type": "code",
   "execution_count": 1,
   "metadata": {},
   "outputs": [
    {
     "name": "stdout",
     "output_type": "stream",
     "text": [
      "Hello Python\n"
     ]
    }
   ],
   "source": [
    "# 1. Write a Python program to print \"Hello Python\"?\n",
    "print('Hello Python')"
   ]
  },
  {
   "cell_type": "code",
   "execution_count": 3,
   "metadata": {},
   "outputs": [
    {
     "name": "stdout",
     "output_type": "stream",
     "text": [
      "Addition=  24\n",
      "division=  1.0\n"
     ]
    }
   ],
   "source": [
    "# 2. Write a Python program to do arithmetical operations addition and division.\n",
    "from audioop import add\n",
    "\n",
    "\n",
    "a=int(input('Input Num 1:'))\n",
    "b=int(input('Input Num 2:'))\n",
    "addition=a+b\n",
    "division=a/b\n",
    "print('Addition= ',addition)\n",
    "print('division= ',division)"
   ]
  },
  {
   "cell_type": "code",
   "execution_count": 4,
   "metadata": {},
   "outputs": [
    {
     "name": "stdout",
     "output_type": "stream",
     "text": [
      "138.0\n"
     ]
    }
   ],
   "source": [
    "# 3. Write a Python program to find the area of a triangle?\n",
    "b= float(input('Enter the base length:'))\n",
    "h= float(input('Enter the Hieght:'))\n",
    "area=(1/2.0)*b*h\n",
    "print(area)"
   ]
  },
  {
   "cell_type": "code",
   "execution_count": 6,
   "metadata": {},
   "outputs": [
    {
     "name": "stdout",
     "output_type": "stream",
     "text": [
      "BEFORE SWAP\n",
      "a 12\n",
      "b 34\n",
      "AFTER SWAP\n",
      "a 34\n",
      "b 12\n"
     ]
    }
   ],
   "source": [
    "# 4. Write a Python program to swap two variables?\n",
    "a=input(\"Enter 1st Number\")\n",
    "b=input(\"Enter 2nd number\")\n",
    "print('BEFORE SWAP')\n",
    "print('a',a)\n",
    "print('b',b)\n",
    "c=a\n",
    "a=b\n",
    "b=c\n",
    "del(c)\n",
    "print('AFTER SWAP')\n",
    "print('a',a)\n",
    "print('b',b)"
   ]
  },
  {
   "cell_type": "code",
   "execution_count": 23,
   "metadata": {},
   "outputs": [
    {
     "name": "stdout",
     "output_type": "stream",
     "text": [
      "0.5813905707550375\n",
      "0.002290360792996271\n"
     ]
    }
   ],
   "source": [
    "# 5. Write a Python program to generate a random number?\n",
    "from datetime import datetime\n",
    "from random import Random, random\n",
    "x=Random(x=datetime.now())\n",
    "print(x.random())\n",
    "\n"
   ]
  }
 ],
 "metadata": {
  "kernelspec": {
   "display_name": "Python 3.10.6 64-bit",
   "language": "python",
   "name": "python3"
  },
  "language_info": {
   "codemirror_mode": {
    "name": "ipython",
    "version": 3
   },
   "file_extension": ".py",
   "mimetype": "text/x-python",
   "name": "python",
   "nbconvert_exporter": "python",
   "pygments_lexer": "ipython3",
   "version": "3.10.6"
  },
  "orig_nbformat": 4,
  "vscode": {
   "interpreter": {
    "hash": "369f2c481f4da34e4445cda3fffd2e751bd1c4d706f27375911949ba6bb62e1c"
   }
  }
 },
 "nbformat": 4,
 "nbformat_minor": 2
}
