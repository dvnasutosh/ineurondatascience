{
 "cells": [
  {
   "cell_type": "code",
   "execution_count": 56,
   "metadata": {},
   "outputs": [
    {
     "data": {
      "text/plain": [
       "4930712"
      ]
     },
     "execution_count": 56,
     "metadata": {},
     "output_type": "execute_result"
    }
   ],
   "source": [
    "# 1. Write a Python program to find sum of elements in list?\n",
    "import random\n",
    "arr=[random.randint(1,10000) for i in range(1000)]\n",
    "sum(arr)\n",
    "\n"
   ]
  },
  {
   "cell_type": "code",
   "execution_count": 64,
   "metadata": {},
   "outputs": [
    {
     "data": {
      "text/plain": [
       "6438291772681094697844115948015657766529057947648000000000000000"
      ]
     },
     "execution_count": 64,
     "metadata": {},
     "output_type": "execute_result"
    }
   ],
   "source": [
    "# 2. Write a Python program to Multiply all numbers in the list?\n",
    "arr=[(random.randint(1,9)) for _ in range(100)]\n",
    "import math\n",
    "math.prod(arr)"
   ]
  },
  {
   "cell_type": "code",
   "execution_count": 93,
   "metadata": {},
   "outputs": [
    {
     "name": "stdout",
     "output_type": "stream",
     "text": [
      "array= [69, 41, 29, 47, 27, 41, 34, 57, 27, 73] \n",
      "smallest= 27\n"
     ]
    }
   ],
   "source": [
    "# 3. Write a Python program to find smallest number in a list?\n",
    "arr=[random.randint(1,100) for i in range(10)]\n",
    "print('array=',arr,'\\nsmallest=',min(arr))\n"
   ]
  },
  {
   "cell_type": "code",
   "execution_count": 94,
   "metadata": {},
   "outputs": [
    {
     "name": "stdout",
     "output_type": "stream",
     "text": [
      "array= [34, 87, 68, 63, 72, 94, 55, 90, 33, 13] \n",
      "largest= 94\n"
     ]
    }
   ],
   "source": [
    "# 4. Write a Python program to find largest number in a list?\n",
    "arr=[random.randint(1,100) for i in range(10)]\n",
    "print('array=',arr,'\\nlargest=',max(arr))"
   ]
  },
  {
   "cell_type": "code",
   "execution_count": 108,
   "metadata": {},
   "outputs": [
    {
     "name": "stdout",
     "output_type": "stream",
     "text": [
      "array= [92, 31, 94, 60, 51, 26, 32, 67, 97, 79] \n",
      "2nd largest= 94\n"
     ]
    }
   ],
   "source": [
    "# 5. Write a Python program to find second largest number in a list?\n",
    "arr=[random.randint(1,100) for i in range(10)]\n",
    "\n",
    "\n",
    "print('array=',arr,'\\n2nd largest=',max(set(arr)-{max(arr)}))"
   ]
  },
  {
   "cell_type": "code",
   "execution_count": 116,
   "metadata": {},
   "outputs": [
    {
     "name": "stdout",
     "output_type": "stream",
     "text": [
      "array = [31, 32, 99, 15, 52, 2, 41, 40, 19, 61] \n",
      " 3 largest = 32\n"
     ]
    }
   ],
   "source": [
    "# 6. Write a Python program to find N largest elements from a list?\n",
    "arr=[random.randint(1,100) for i in range(10)]\n",
    "\n",
    "n=input('Enter n')\n",
    "# n=3\n",
    "max=[*set(arr)]\n",
    "max.sort()\n",
    "\n",
    "print(f'array = {arr} \\n {n} largest = {max[n+1]}')\n",
    "max.clear()\n"
   ]
  },
  {
   "cell_type": "code",
   "execution_count": 127,
   "metadata": {},
   "outputs": [
    {
     "name": "stdout",
     "output_type": "stream",
     "text": [
      "[37, 50, 70, 36, 13, 33, 3, 81, 9, 33]\n",
      "[50, 70, 36]\n"
     ]
    }
   ],
   "source": [
    "# 7. Write a Python program to print even numbers in a list?\n",
    "arr=[random.randint(1,100) for i in range(10)]\n",
    "print(arr)\n",
    "print([i for i in arr if not i%2])"
   ]
  },
  {
   "cell_type": "code",
   "execution_count": 126,
   "metadata": {},
   "outputs": [
    {
     "name": "stdout",
     "output_type": "stream",
     "text": [
      "[45, 47, 61, 100, 95, 77, 91, 74, 30, 5]\n",
      "[45, 47, 61, 95, 77, 91, 5]\n"
     ]
    }
   ],
   "source": [
    "# 8. Write a Python program to print odd numbers in a List?\n",
    "arr=[random.randint(1,100) for i in range(10)]\n",
    "print(arr)\n",
    "print([i for i in arr if i%2])"
   ]
  },
  {
   "cell_type": "code",
   "execution_count": 129,
   "metadata": {},
   "outputs": [
    {
     "name": "stdout",
     "output_type": "stream",
     "text": [
      "[14, 82, 29, 28, 72, 35, 57, 46, 79, 64, [], [], [[]]]\n",
      "[14, 82, 29, 28, 72, 35, 57, 46, 79, 64, [[]]]\n"
     ]
    }
   ],
   "source": [
    "# 9. Write a Python program to Remove empty List from List?\n",
    "arr=[random.randint(1,100) for i in range(10)]\n",
    "arr.extend([[],[],[[]]])\n",
    "print(arr)\n",
    "while [] in arr:\n",
    "    arr.remove([])\n",
    "print(arr)\n"
   ]
  },
  {
   "cell_type": "code",
   "execution_count": 134,
   "metadata": {},
   "outputs": [
    {
     "name": "stdout",
     "output_type": "stream",
     "text": [
      "[73, 59, 25, 82, 32, 27, 58, 14, 60, 25]\n",
      "[73, 59, 25, 82, 32, 27, 58, 14, 60, 25]\n",
      "[73, 59, 25, 82, 32, 27, 58, 14, 60, 25]\n"
     ]
    }
   ],
   "source": [
    "# 10. Write a Python program to Cloning or Copying a list?\n",
    "arr=[random.randint(1,100) for i in range(10)]\n",
    "print(arr)\n",
    "clone=list.copy(arr)\n",
    "\n",
    "print(clone)\n",
    "arr.clear()\n",
    "print(clone)"
   ]
  },
  {
   "cell_type": "code",
   "execution_count": 138,
   "metadata": {},
   "outputs": [
    {
     "name": "stdout",
     "output_type": "stream",
     "text": [
      "[1, 2, 3, 4, 5, 6, 6, 6, 5, 4, 3, 4, 3]\n",
      "3\n"
     ]
    }
   ],
   "source": [
    "# 11. Write a Python program to Count occurrences of an element in a list?\n",
    "arr=[1,2,3,4,5,6,6,6,5,4,3,4,3]\n",
    "print(arr)\n",
    "print(arr.count(6))"
   ]
  }
 ],
 "metadata": {
  "kernelspec": {
   "display_name": "mysql",
   "language": "python",
   "name": "python3"
  },
  "language_info": {
   "codemirror_mode": {
    "name": "ipython",
    "version": 3
   },
   "file_extension": ".py",
   "mimetype": "text/x-python",
   "name": "python",
   "nbconvert_exporter": "python",
   "pygments_lexer": "ipython3",
   "version": "3.10.6"
  },
  "orig_nbformat": 4,
  "vscode": {
   "interpreter": {
    "hash": "8dfb715010ddda02a96dd40203bd9f60afbd2eb8e825097f44ff794c1c3116c5"
   }
  }
 },
 "nbformat": 4,
 "nbformat_minor": 2
}
