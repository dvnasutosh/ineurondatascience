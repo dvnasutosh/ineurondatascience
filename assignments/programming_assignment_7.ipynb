{
 "cells": [
  {
   "cell_type": "code",
   "execution_count": 7,
   "metadata": {},
   "outputs": [
    {
     "name": "stdout",
     "output_type": "stream",
     "text": [
      "15\n",
      "15\n"
     ]
    }
   ],
   "source": [
    "# 1. Write a Python Program to find sum of array?\n",
    "def sumofarray(array:list):\n",
    "    return sum(array)\n",
    "def sumofarray(array:list):\n",
    "    return sum(array)\n",
    "\n",
    "def sumofarrayold(array:list):\n",
    "    s=0\n",
    "    for i in array:\n",
    "       s+=i\n",
    "    return s\n",
    "\n",
    "print(sumofarrayold([1,2,3,4,5]))\n",
    "print(sumofarray([1,2,3,4,5]))\n",
    "\n",
    "\n"
   ]
  },
  {
   "cell_type": "code",
   "execution_count": 20,
   "metadata": {},
   "outputs": [
    {
     "name": "stderr",
     "output_type": "stream",
     "text": [
      "DEBUG:root:5\n",
      "DEBUG:root:5\n"
     ]
    }
   ],
   "source": [
    "# 2. Write a Python Program to find largest element in an array?\n",
    "import logging\n",
    "l=logging.getLogger()\n",
    "l.setLevel(0)\n",
    "def maxn(inp:list):\n",
    "    lg=0\n",
    "    for i in inp:\n",
    "        if i>lg:\n",
    "            lg=i\n",
    "    return lg\n",
    "l.debug(maxn([1,2,3,4,5]))\n",
    "l.debug(max([1,2,3,4,5]))\n",
    "\n",
    "\n"
   ]
  },
  {
   "cell_type": "code",
   "execution_count": 25,
   "metadata": {},
   "outputs": [
    {
     "data": {
      "text/plain": [
       "[5, 1, 2, 3, 4]"
      ]
     },
     "execution_count": 25,
     "metadata": {},
     "output_type": "execute_result"
    }
   ],
   "source": [
    "# 3. Write a Python Program for array rotation?\n",
    "def arrrotate(arr:list,isLeft:bool):\n",
    "    if isLeft:\n",
    "        temp=arr[0]\n",
    "        for i in range(len(arr)-1):\n",
    "            arr[i]=arr[i+1]\n",
    "        arr[-1]=temp\n",
    "    else:\n",
    "        temp=arr[-1]\n",
    "        for i in range(len(arr)-1,0,-1):\n",
    "            arr[i]=arr[i-1]\n",
    "        arr[0]=temp\n",
    "    return arr\n",
    "\n",
    "arrrotate([1,2,3,4,5],0)\n",
    "            \n",
    "            \n",
    "    "
   ]
  },
  {
   "cell_type": "code",
   "execution_count": 33,
   "metadata": {},
   "outputs": [
    {
     "name": "stderr",
     "output_type": "stream",
     "text": [
      "INFO:root:[6, 7, 8, 9, 0, 1, 2, 3, 4, 5, 6]\n"
     ]
    }
   ],
   "source": [
    "# 4. Write a Python Program to Split the array and add the first part to the end?\n",
    "def arrsplit(arr:list, sp:int):\n",
    "    return arr[sp-1::]+arr[0:sp]\n",
    "\n",
    "l.info(arrsplit([1,2,3,4,5,6,7,8,9,0],6))"
   ]
  },
  {
   "cell_type": "code",
   "execution_count": 45,
   "metadata": {},
   "outputs": [
    {
     "name": "stderr",
     "output_type": "stream",
     "text": [
      "DEBUG:root:[1, 2, 3, 8, 4, 5, 5, 3]\n",
      "DEBUG:root:[1, 2, 3, 3, 4, 5, 5, 8]\n",
      "DEBUG:root:[8, 5, 5, 4, 3, 3, 2, 1]\n",
      "DEBUG:root:[1, 2, 2, 3, 4, 5, 6, 6, 6]\n",
      "DEBUG:root:[1, 2, 2, 3, 4, 5, 6, 6, 6]\n",
      "DEBUG:root:[6, 6, 6, 5, 4, 3, 2, 2, 1]\n"
     ]
    },
    {
     "name": "stdout",
     "output_type": "stream",
     "text": [
      "False\n",
      "True\n"
     ]
    }
   ],
   "source": [
    "# 5. Write a Python Program to check if given array is Monotonic?\n",
    "def isMonotonic(arr:list):\n",
    "    dup=list(arr)\n",
    "    \n",
    "    if arr==dup or arr==dup[::-1]:\n",
    "        return True\n",
    "    else: \n",
    "        return False\n",
    "\n",
    "print(isMonotonic([1,2,3,8,4,5,5,3]))\n",
    "print(isMonotonic([1,2,2,3,4,5,6,6,6]))\n",
    "    "
   ]
  },
  {
   "cell_type": "code",
   "execution_count": 41,
   "metadata": {},
   "outputs": [
    {
     "data": {
      "text/plain": [
       "False"
      ]
     },
     "execution_count": 41,
     "metadata": {},
     "output_type": "execute_result"
    }
   ],
   "source": []
  }
 ],
 "metadata": {
  "kernelspec": {
   "display_name": "Python 3",
   "language": "python",
   "name": "python3"
  },
  "language_info": {
   "codemirror_mode": {
    "name": "ipython",
    "version": 3
   },
   "file_extension": ".py",
   "mimetype": "text/x-python",
   "name": "python",
   "nbconvert_exporter": "python",
   "pygments_lexer": "ipython3",
   "version": "3.10.6"
  },
  "orig_nbformat": 4,
  "vscode": {
   "interpreter": {
    "hash": "369f2c481f4da34e4445cda3fffd2e751bd1c4d706f27375911949ba6bb62e1c"
   }
  }
 },
 "nbformat": 4,
 "nbformat_minor": 2
}
