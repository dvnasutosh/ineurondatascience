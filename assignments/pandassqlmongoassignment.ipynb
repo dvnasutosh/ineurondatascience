{
 "cells": [
  {
   "attachments": {},
   "cell_type": "markdown",
   "metadata": {},
   "source": [
    "# Use CSV Kit\n",
    "#Task 1 - Fitbit Dataset\n",
    "\n",
    "1. Read this dataset in pandas , mysql and mongodb <br>\n",
    "2. while creting a table in mysql dont use manual approach to create it  ,always use a automation to create a table in mysql <br>\n",
    " ## hint - use csvkit library to automate this task and to load a data in bulk in you mysql <br>\n",
    "3. convert all the dates avaible in dataset to timestamp format in pandas and in sql you to convert it in date format <br>\n",
    "\n",
    "4 . Find out in this data that how many unique id's we have <br>\n",
    "5 . which id is one of the active id that you have in whole dataset <br>\n",
    "6 . how many of them have not logged there activity find out in terms of number of ids <br>\n",
    "7 . Find out who is the laziest person id that we have in dataset <br>\n",
    "8 . Explore over an internet that how much calories burn is required for a healthy person and find out how many healthy person we have in our dataset <br>\n",
    "9. how many person are not a regular person with respect to activity try to find out those <br>\n",
    "10 . who is the thired most active person in this dataset find out those in pandas and in sql both . <br>\n",
    "11 . who is the 5th most laziest person avilable in dataset find it out <br>\n",
    "12 . what is a totla acumulative calories burn for a person find out <br>\n"
   ]
  },
  {
   "attachments": {},
   "cell_type": "markdown",
   "metadata": {},
   "source": [
    "# task 2 - Superstore_USA\n",
    "1 . load this data in sql and in pandas with a relation in sql <br>\n",
    "2 . while loading this data you dont have to create a table manually you can use any automated approach to create a table and load a data in bulk in table <br>\n",
    "3 . Find out how return that we ahve recived and with a product id <br>\n",
    "4 . try  to join order and return data both in sql and pandas <br>\n",
    "5 . Try to find out how many unique customer that we have <br>\n",
    "6 . try to find out in how many regions we are selling a product and who is a manager for a respective region <br>\n",
    "7 . find out how many different differnet shipement mode that we have and what is a percentage usablity of all the shipment mode with respect to dataset <br>\n",
    "8 . Create a new coulmn and try to find our a diffrence between order date and shipment date <br>\n",
    "9 . base on question number 8 find out for which order id we have shipment duration more than 10 days <br>\n",
    "10 . Try to find out a list of a returned order which sihpment duration was more then 15 days and find out that region manager as well <br>\n",
    "11 . Gorup by region and find out which region is more profitable <br>\n",
    "12 . Try to find out overalll in which country we are giving more discount <br>\n",
    "13 . Give me a list of unique postal code <br>\n",
    "14 . which customer segement is more profitalble find it out . <br>\n",
    "15 . try to find out the 10th most loss making product catagory . <br>\n",
    "16 . Try to find out 10 top  product with highest margins <br>\n",
    "\n",
    "submit your git link for the same <br>\n",
    " \n",
    "you have to submit this task by next Friday 5th 11PM IST  to respective mail id <br>\n",
    "sudhanshu@ineuron.ai , sunny.savita@ineuron.ai <br>\n"
   ]
  },
  {
   "cell_type": "code",
   "execution_count": null,
   "metadata": {},
   "outputs": [],
   "source": []
  }
 ],
 "metadata": {
  "kernelspec": {
   "display_name": "Python 3",
   "language": "python",
   "name": "python3"
  },
  "language_info": {
   "name": "python",
   "version": "3.10.6 (tags/v3.10.6:9c7b4bd, Aug  1 2022, 21:53:49) [MSC v.1932 64 bit (AMD64)]"
  },
  "orig_nbformat": 4,
  "vscode": {
   "interpreter": {
    "hash": "369f2c481f4da34e4445cda3fffd2e751bd1c4d706f27375911949ba6bb62e1c"
   }
  }
 },
 "nbformat": 4,
 "nbformat_minor": 2
}
