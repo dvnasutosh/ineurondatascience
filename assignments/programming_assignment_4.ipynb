{
 "cells": [
  {
   "cell_type": "code",
   "execution_count": 5,
   "metadata": {},
   "outputs": [
    {
     "name": "stdout",
     "output_type": "stream",
     "text": [
      "120\n"
     ]
    }
   ],
   "source": [
    "# 1. Write a Python Program to Find the Factorial of a Number?\n",
    "a=int(input('Enter a number:'))\n",
    "factorial=1\n",
    "for i in range(1,a+1):\n",
    "    factorial*=i\n",
    "print(factorial)\n"
   ]
  },
  {
   "cell_type": "code",
   "execution_count": 7,
   "metadata": {},
   "outputs": [
    {
     "name": "stdout",
     "output_type": "stream",
     "text": [
      "1000 x 1 = 1000\n",
      "1000 x 2 = 2000\n",
      "1000 x 3 = 3000\n",
      "1000 x 4 = 4000\n",
      "1000 x 5 = 5000\n",
      "1000 x 6 = 6000\n",
      "1000 x 7 = 7000\n",
      "1000 x 8 = 8000\n",
      "1000 x 9 = 9000\n",
      "1000 x 10 = 10000\n"
     ]
    }
   ],
   "source": [
    "# 2. Write a Python Program to Display the multiplication Table?\n",
    "a=int(input('Enter a number:'))\n",
    "for i in range(1,11):\n",
    "    print(a,'x',i,'=',a*i)"
   ]
  },
  {
   "cell_type": "code",
   "execution_count": 10,
   "metadata": {},
   "outputs": [
    {
     "name": "stdout",
     "output_type": "stream",
     "text": [
      "0 1 1 2 3 5 8 13 21 34 55 "
     ]
    }
   ],
   "source": [
    "# 3. Write a Python Program to Print the Fibonacci sequence?\n",
    "n=int(input('Enter the length of fibonacci series:'))\n",
    "a=0\n",
    "b=1\n",
    "print(a,end=' ')\n",
    "for _ in range(n):\n",
    "    print(b,end=' ')\n",
    "    a,b=(b,a+b)\n",
    "    \n",
    "    "
   ]
  },
  {
   "cell_type": "code",
   "execution_count": 13,
   "metadata": {},
   "outputs": [
    {
     "name": "stdout",
     "output_type": "stream",
     "text": [
      "Not armstrong Number\n"
     ]
    }
   ],
   "source": [
    "# 4. Write a Python Program to Check Armstrong Number?\n",
    "n=int(input('Enter a number:'))\n",
    "p=len(str(n))\n",
    "val=0\n",
    "for i in range(p):\n",
    "    val+=pow(int(str(n)[i]),p)\n",
    "if val==n:\n",
    "    print('Armstrong Number')\n",
    "else:\n",
    "    print('Not armstrong Number')"
   ]
  },
  {
   "cell_type": "code",
   "execution_count": 15,
   "metadata": {},
   "outputs": [
    {
     "name": "stdout",
     "output_type": "stream",
     "text": [
      "0\n",
      "1\n",
      "2\n",
      "3\n",
      "4\n",
      "5\n",
      "6\n",
      "7\n",
      "8\n",
      "9\n",
      "153\n",
      "370\n",
      "371\n",
      "407\n",
      "1634\n",
      "8208\n",
      "9474\n"
     ]
    }
   ],
   "source": [
    "# 5. Write a Python Program to Find Armstrong Number in an Interval?\n",
    "for n in range(int(input('Enter a range:'))):\n",
    "    p=len(str(n))\n",
    "    val=0\n",
    "    for i in range(p):\n",
    "        val+=pow(int(str(n)[i]),p)\n",
    "    if val==n:\n",
    "        print(n)\n"
   ]
  },
  {
   "cell_type": "code",
   "execution_count": 17,
   "metadata": {},
   "outputs": [
    {
     "name": "stdout",
     "output_type": "stream",
     "text": [
      "45\n"
     ]
    }
   ],
   "source": [
    "# 6. Write a Python Program to Find the Sum of Natural Numbers?\n",
    "\n",
    "n=int(input('Enter the number:'))\n",
    "s=0\n",
    "for i in range(1,n):\n",
    "    s+=i\n",
    "print(s)"
   ]
  }
 ],
 "metadata": {
  "kernelspec": {
   "display_name": "Python 3.10.6 ('mysql': venv)",
   "language": "python",
   "name": "python3"
  },
  "language_info": {
   "codemirror_mode": {
    "name": "ipython",
    "version": 3
   },
   "file_extension": ".py",
   "mimetype": "text/x-python",
   "name": "python",
   "nbconvert_exporter": "python",
   "pygments_lexer": "ipython3",
   "version": "3.10.6"
  },
  "orig_nbformat": 4,
  "vscode": {
   "interpreter": {
    "hash": "8dfb715010ddda02a96dd40203bd9f60afbd2eb8e825097f44ff794c1c3116c5"
   }
  }
 },
 "nbformat": 4,
 "nbformat_minor": 2
}
