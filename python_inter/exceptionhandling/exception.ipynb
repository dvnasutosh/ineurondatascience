{
 "cells": [
  {
   "cell_type": "code",
   "execution_count": 5,
   "metadata": {},
   "outputs": [
    {
     "ename": "ValueError",
     "evalue": "invalid literal for int() with base 10: 'i'",
     "output_type": "error",
     "traceback": [
      "\u001b[1;31m---------------------------------------------------------------------------\u001b[0m",
      "\u001b[1;31mValueError\u001b[0m                                Traceback (most recent call last)",
      "\u001b[1;32md:\\study\\0ineurondatascience\\python_inter\\exceptionhandling\\exception.ipynb Cell 1\u001b[0m in \u001b[0;36m<cell line: 2>\u001b[1;34m()\u001b[0m\n\u001b[0;32m      <a href='vscode-notebook-cell:/d%3A/study/0ineurondatascience/python_inter/exceptionhandling/exception.ipynb#W1sZmlsZQ%3D%3D?line=0'>1</a>\u001b[0m a\u001b[39m=\u001b[39m\u001b[39mint\u001b[39m(\u001b[39minput\u001b[39m(\u001b[39m\"\u001b[39m\u001b[39mnumber\u001b[39m\u001b[39m\"\u001b[39m))\n\u001b[1;32m----> <a href='vscode-notebook-cell:/d%3A/study/0ineurondatascience/python_inter/exceptionhandling/exception.ipynb#W1sZmlsZQ%3D%3D?line=1'>2</a>\u001b[0m b\u001b[39m=\u001b[39m\u001b[39mint\u001b[39;49m(\u001b[39minput\u001b[39;49m(\u001b[39m\"\u001b[39;49m\u001b[39mnumber 2\u001b[39;49m\u001b[39m\"\u001b[39;49m))\n\u001b[0;32m      <a href='vscode-notebook-cell:/d%3A/study/0ineurondatascience/python_inter/exceptionhandling/exception.ipynb#W1sZmlsZQ%3D%3D?line=2'>3</a>\u001b[0m \u001b[39mtry\u001b[39;00m:\n\u001b[0;32m      <a href='vscode-notebook-cell:/d%3A/study/0ineurondatascience/python_inter/exceptionhandling/exception.ipynb#W1sZmlsZQ%3D%3D?line=3'>4</a>\u001b[0m     c\u001b[39m=\u001b[39ma\u001b[39m/\u001b[39mb\n",
      "\u001b[1;31mValueError\u001b[0m: invalid literal for int() with base 10: 'i'"
     ]
    }
   ],
   "source": [
    "a=int(input(\"number\"))\n",
    "b=int(input(\"number 2\"))\n",
    "try:\n",
    "    c=a/b\n",
    "    print(c)\n",
    "except ZeroDivisionError:\n",
    "    print('div by zero')\n",
    "except TypeError:\n",
    "    print\n",
    "d=a*b \n"
   ]
  },
  {
   "cell_type": "code",
   "execution_count": 11,
   "metadata": {},
   "outputs": [
    {
     "name": "stdout",
     "output_type": "stream",
     "text": [
      "6\n",
      "Traceback (most recent call last):\n",
      "  File \"C:\\Users\\Asutosh Rath\\AppData\\Local\\Temp\\ipykernel_28596\\2838257375.py\", line 6, in <cell line: 3>\n",
      "    c=int(a)/int(b)\n",
      "ValueError: invalid literal for int() with base 10: 's'\n",
      "\n"
     ]
    }
   ],
   "source": [
    "import sys\n",
    "import traceback\n",
    "try:\n",
    "    a=input(\"Enter no\")\n",
    "    b=input(\"Enter no\")\n",
    "    c=int(a)/int(b)\n",
    "    print(c)\n",
    "except:\n",
    "    a,b,c=sys.exc_info()\n",
    "    print(c.tb_lineno)\n",
    "    print(traceback.format_exc())"
   ]
  },
  {
   "cell_type": "code",
   "execution_count": 13,
   "metadata": {},
   "outputs": [
    {
     "name": "stdout",
     "output_type": "stream",
     "text": [
      "zero denominator not allowed\n",
      "-ve num not allowed\n",
      "please enter int only\n",
      "please enter int only\n",
      "1.0\n"
     ]
    }
   ],
   "source": [
    "\n",
    "\n",
    "\n",
    "\n",
    "\n",
    "while True:\n",
    "    try:\n",
    "        a=int(input())\n",
    "        b=int(input())\n",
    "        if a<0 or b<0:\n",
    "            raise Exception(\"-ve num not allowed\")\n",
    "        print(a/b)\n",
    "        break\n",
    "    except ValueError:\n",
    "        print(\"please enter int only\")\n",
    "    except ZeroDivisionError:\n",
    "        print(\"zero denominator not allowed\")\n",
    "    except Exception as e:\n",
    "        print(e)\n",
    "        \n",
    "    "
   ]
  },
  {
   "cell_type": "code",
   "execution_count": null,
   "metadata": {},
   "outputs": [],
   "source": [
    "try:\n",
    "    # Write suspicious codes that might create a runtime Error"
   ]
  },
  {
   "cell_type": "markdown",
   "metadata": {},
   "source": [
    "try:"
   ]
  },
  {
   "cell_type": "code",
   "execution_count": 1,
   "metadata": {},
   "outputs": [
    {
     "data": {
      "text/plain": [
       "['_MOAOq0QJ8wRAIgLUBvavDvukUVA_pMGAyK8YepT3gs26CPzobtF9Azd2oCIG2lu8iCTOAxTvKEKhl5_yIki5mul_T4o_mpA-vLzuzn&sp',\n",
       " 'sig&url',\n",
       " 'https://rr8---sn-ci5gup-qxar.googlevideo.com/videoplayback%3Fexpire%3D1662697958%26ei%3Dhm0aY8WpAbC8rtoP5p2OwAo%26ip%3D2401%253A4900%253A1cb8%253A1bd0%253Ae14b%253A9783%253A5ff5%253A993e%26id%3Do-ALDyhKXSqkDTXWD1fr5mdaduBAy8z1bGrkJQ9HHFsgf1%26itag%3D18%26source%3Dyoutube%26requiressl%3Dyes%26mh%3DAX%26mm%3D31%252C26%26mn%3Dsn-ci5gup-qxar%252Csn-qxaelnek%26ms%3Dau%252Conr%26mv%3Dm%26mvi%3D8%26pcm2cms%3Dyes%26pl%3D51%26spc%3DlT-Khk_3YKW5Ihap_anezwfpZ5G_1TM%26vprv%3D1%26mime%3Dvideo%252Fmp4%26ns%3DgiLXT-1y7AIu5lp4TQhT0pkH%26gir%3Dyes%26clen%3D20312190%26ratebypass%3Dyes%26dur%3D276.416%26lmt%3D1651331803115738%26mt%3D1662675898%26fvip%3D1%26fexp%3D24001373%252C24007246%26c%3DWEB%26rbqsm%3Dfr%26txp%3D5530434%26n%3D__wcwCc3BlPjJASAmT2vQ%26sparams%3Dexpire%252Cei%252Cip%252Cid%252Citag%252Csource%252Crequiressl%252Cspc%252Cvprv%252Cmime%252Cns%252Cgir%252Cclen%252Cratebypass%252Cdur%252Clmt%26lsparams%3Dmh%252Cmm%252Cmn%252Cms%252Cmv%252Cmvi%252Cpcm2cms%252Cpl%26lsig%3DAG3C_xAwRAIgLN_6r53WHNlH2RBGPV8qIzKUQ61bLMeZ_wqP1SPlqTYCIBsZzVxvhIMEWa1wfpNFQHNcbsVN-BpvYv4PppvMKyiB']"
      ]
     },
     "execution_count": 1,
     "metadata": {},
     "output_type": "execute_result"
    }
   ],
   "source": [
    "s=r\"_MOAOq0QJ8wRAIgLUBvavDvukUVA_pMGAyK8YepT3gs26CPzobtF9Azd2oCIG2lu8iCTOAxTvKEKhl5_yIki5mul_T4o_mpA-vLzuzn&sp=sig&url=https://rr8---sn-ci5gup-qxar.googlevideo.com/videoplayback%3Fexpire%3D1662697958%26ei%3Dhm0aY8WpAbC8rtoP5p2OwAo%26ip%3D2401%253A4900%253A1cb8%253A1bd0%253Ae14b%253A9783%253A5ff5%253A993e%26id%3Do-ALDyhKXSqkDTXWD1fr5mdaduBAy8z1bGrkJQ9HHFsgf1%26itag%3D18%26source%3Dyoutube%26requiressl%3Dyes%26mh%3DAX%26mm%3D31%252C26%26mn%3Dsn-ci5gup-qxar%252Csn-qxaelnek%26ms%3Dau%252Conr%26mv%3Dm%26mvi%3D8%26pcm2cms%3Dyes%26pl%3D51%26spc%3DlT-Khk_3YKW5Ihap_anezwfpZ5G_1TM%26vprv%3D1%26mime%3Dvideo%252Fmp4%26ns%3DgiLXT-1y7AIu5lp4TQhT0pkH%26gir%3Dyes%26clen%3D20312190%26ratebypass%3Dyes%26dur%3D276.416%26lmt%3D1651331803115738%26mt%3D1662675898%26fvip%3D1%26fexp%3D24001373%252C24007246%26c%3DWEB%26rbqsm%3Dfr%26txp%3D5530434%26n%3D__wcwCc3BlPjJASAmT2vQ%26sparams%3Dexpire%252Cei%252Cip%252Cid%252Citag%252Csource%252Crequiressl%252Cspc%252Cvprv%252Cmime%252Cns%252Cgir%252Cclen%252Cratebypass%252Cdur%252Clmt%26lsparams%3Dmh%252Cmm%252Cmn%252Cms%252Cmv%252Cmvi%252Cpcm2cms%252Cpl%26lsig%3DAG3C_xAwRAIgLN_6r53WHNlH2RBGPV8qIzKUQ61bLMeZ_wqP1SPlqTYCIBsZzVxvhIMEWa1wfpNFQHNcbsVN-BpvYv4PppvMKyiB\"\n",
    "s.split('=')"
   ]
  },
  {
   "cell_type": "code",
   "execution_count": null,
   "metadata": {},
   "outputs": [],
   "source": [
    "from urllib import request\n",
    "\n",
    "\n",
    "x=request.Request(\n",
    "    'https://returnyoutubedislikeapi.com/votes?videoId=p8Ch7oTBF_s&likeCount=28908',\n",
    "    {\n",
    "      \"method\": \"GET\",\n",
    "      \"headers\": {\n",
    "        \"Accept\": \"application/json\",\n",
    "      },\n",
    "    })\n",
    "print(request.urlopen(x))"
   ]
  },
  {
   "cell_type": "code",
   "execution_count": 10,
   "metadata": {},
   "outputs": [
    {
     "name": "stdout",
     "output_type": "stream",
     "text": [
      "None\n"
     ]
    }
   ],
   "source": [
    "print(request.Request('https://google.com').data)"
   ]
  },
  {
   "cell_type": "code",
   "execution_count": 20,
   "metadata": {},
   "outputs": [
    {
     "data": {
      "text/plain": [
       "{'id': 'dDTtn_rPtrA',\n",
       " 'dateCreated': '2022-09-08T18:47:48.058075Z',\n",
       " 'likes': 291,\n",
       " 'dislikes': 6,\n",
       " 'rating': 4.91919191919192,\n",
       " 'viewCount': 24401,\n",
       " 'deleted': False}"
      ]
     },
     "execution_count": 20,
     "metadata": {},
     "output_type": "execute_result"
    }
   ],
   "source": [
    "import requests\n",
    "\n",
    "x=requests.get(url='https://returnyoutubedislikeapi.com/votes?videoId=dDTtn_rPtrA',headers={\"Accept\": \"application/json\"})\n",
    "\n",
    "x.json()"
   ]
  }
 ],
 "metadata": {
  "kernelspec": {
   "display_name": "Python 3.10.6 64-bit",
   "language": "python",
   "name": "python3"
  },
  "language_info": {
   "codemirror_mode": {
    "name": "ipython",
    "version": 3
   },
   "file_extension": ".py",
   "mimetype": "text/x-python",
   "name": "python",
   "nbconvert_exporter": "python",
   "pygments_lexer": "ipython3",
   "version": "3.10.6"
  },
  "orig_nbformat": 4,
  "vscode": {
   "interpreter": {
    "hash": "369f2c481f4da34e4445cda3fffd2e751bd1c4d706f27375911949ba6bb62e1c"
   }
  }
 },
 "nbformat": 4,
 "nbformat_minor": 2
}
