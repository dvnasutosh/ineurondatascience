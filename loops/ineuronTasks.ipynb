{
 "cells": [
  {
   "cell_type": "code",
   "execution_count": 11,
   "metadata": {},
   "outputs": [
    {
     "name": "stdout",
     "output_type": "stream",
     "text": [
      "[{3: 6}, {7: 8}]\n"
     ]
    }
   ],
   "source": [
    "# q1 :\n",
    "# ineruon \n",
    "# ineruon ineruon \n",
    "# ineruon ineruon ineruon\n",
    "# ineruon ineruon ineruon ineruon\n",
    "\n",
    "# q2 - \n",
    "\n",
    "#           ineruon\n",
    "#     ineruon      ineruon\n",
    "# ineruon\t\tineruon \tineruon\n",
    "# \tineruon\t\t ineruon\n",
    "# \t\t  ineruon\n"
   ]
  },
  {
   "cell_type": "code",
   "execution_count": 2,
   "metadata": {},
   "outputs": [],
   "source": [
    "\n",
    "l = [[1,2,3,4] , (2,3,4,5,6) , (3,4,5,6,7) , set([23,4,5,45,4,4,5,45,45,4,5]) , {'k1' :\"sudh\" , \"k2\" : \"ineuron\",\"k3\":\"kumar\" , 3:6 , 7:8} , [\"ineuron\" , \"data science \"]]\n"
   ]
  },
  {
   "cell_type": "code",
   "execution_count": 3,
   "metadata": {},
   "outputs": [
    {
     "name": "stdout",
     "output_type": "stream",
     "text": [
      "[{3: 6}, {7: 8}]\n"
     ]
    }
   ],
   "source": [
    "\n",
    "# q3 : Try to extract all the list entity \n",
    "def q3(li):\n",
    "    return [x for x in li if type(x)==list]\n",
    "\n",
    "# print(q3(l))\n",
    "        \n",
    "# q4 : Try to extract all the dict enteties\n",
    "def q4(li):\n",
    "    return [x for x in li if type(x)==dict]\n",
    "# q4(l)\n",
    "# q5 : Try to extract all the tuples entities\n",
    "def q5(li):\n",
    "    return [x for x in li if type(x)==tuple]\n",
    "# q5(l)\n",
    "\n",
    "# q6 : Try to extract all the numerical data it may b a part of dict key and values \n",
    "def q6(li):\n",
    "    intdict=[]\n",
    "    for x in li:\n",
    "     if type(x)==dict: \n",
    "        intdict=[{l:m} for l,m in x.items() if int in (type(l),type(m)) ]\n",
    "    return(intdict)\n",
    "         \n",
    "\n",
    "print(q6(l))\n",
    "\n",
    "\n"
   ]
  },
  {
   "cell_type": "code",
   "execution_count": 2,
   "metadata": {},
   "outputs": [
    {
     "name": "stdout",
     "output_type": "stream",
     "text": [
      "2138\n"
     ]
    }
   ],
   "source": [
    "# q7 : Try to give summation of all the numeric data \n",
    "l = [[1,2,3,[123,23,43,545,{'a':[1212,2,34]}],4] , (2,3,4,5,6) , (3,4,5,6,7) , set([23,4,5,45,4,4,5,45,45,4,5]) , {'k1' :\"sudh\" , \"k2\" : \"ineuron\",\"k3\":\"kumar\" , 3:6 , 7:8} , [\"ineuron\" , \"data science \"]]\n",
    "    \n",
    "def q7(li):\n",
    "    summ=0\n",
    "    global c\n",
    "    c=c+1\n",
    "    \n",
    "    for i in li:\n",
    "        if type(i)== int:\n",
    "            summ+=i\n",
    "        elif type(i) in (list,tuple,set):\n",
    "            summ+=q7(i)\n",
    "        elif type(i) == dict :\n",
    "            summ+=q7(dict.keys(i))\n",
    "            summ+=q7(dict.values(i))\n",
    "    return summ\n",
    "c=0\n",
    "print(q7(l))\n",
    "\n",
    "\n",
    "\n"
   ]
  },
  {
   "cell_type": "code",
   "execution_count": 3,
   "metadata": {},
   "outputs": [
    {
     "name": "stdout",
     "output_type": "stream",
     "text": [
      "1\n",
      "3\n",
      "123\n",
      "23\n",
      "43\n",
      "545\n"
     ]
    }
   ],
   "source": [
    "# q8 : Try to filter out all the odd values out all numeric data which is a part of a list \n",
    "def q8(li,isParentList=0):\n",
    "    for i in li:\n",
    "        if isParentList and type(i) == int and i % 2:\n",
    "            print(i)\n",
    "        elif type(i)==list:\n",
    "            q8(i,1)\n",
    "        elif  type(i) in (set,tuple):\n",
    "            q8(i)\n",
    "        elif type(i) in (dict,dict) :\n",
    "            q8(dict.keys(i))\n",
    "            q8(dict.values(i))\n",
    "c=0\n",
    "q8(l)\n",
    "\n"
   ]
  },
  {
   "cell_type": "code",
   "execution_count": 6,
   "metadata": {},
   "outputs": [
    {
     "ename": "TypeError",
     "evalue": "argument of type 'type' is not iterable",
     "output_type": "error",
     "traceback": [
      "\u001b[1;31m---------------------------------------------------------------------------\u001b[0m",
      "\u001b[1;31mTypeError\u001b[0m                                 Traceback (most recent call last)",
      "\u001b[1;32md:\\study\\0ineurondatascience\\loops\\ineuronTasks.ipynb Cell 6\u001b[0m in \u001b[0;36m<cell line: 14>\u001b[1;34m()\u001b[0m\n\u001b[0;32m     <a href='vscode-notebook-cell:/d%3A/study/0ineurondatascience/loops/ineuronTasks.ipynb#X10sZmlsZQ%3D%3D?line=10'>11</a>\u001b[0m             q9(\u001b[39mdict\u001b[39m\u001b[39m.\u001b[39mkeys(li))\n\u001b[0;32m     <a href='vscode-notebook-cell:/d%3A/study/0ineurondatascience/loops/ineuronTasks.ipynb#X10sZmlsZQ%3D%3D?line=11'>12</a>\u001b[0m             q9(\u001b[39mdict\u001b[39m\u001b[39m.\u001b[39mvalues(li))\n\u001b[1;32m---> <a href='vscode-notebook-cell:/d%3A/study/0ineurondatascience/loops/ineuronTasks.ipynb#X10sZmlsZQ%3D%3D?line=13'>14</a>\u001b[0m q9(l)\n",
      "\u001b[1;32md:\\study\\0ineurondatascience\\loops\\ineuronTasks.ipynb Cell 6\u001b[0m in \u001b[0;36mq9\u001b[1;34m(li)\u001b[0m\n\u001b[0;32m      <a href='vscode-notebook-cell:/d%3A/study/0ineurondatascience/loops/ineuronTasks.ipynb#X10sZmlsZQ%3D%3D?line=5'>6</a>\u001b[0m \u001b[39mif\u001b[39;00m \u001b[39mtype\u001b[39m(i)\u001b[39m==\u001b[39m \u001b[39m'\u001b[39m\u001b[39mineuron\u001b[39m\u001b[39m'\u001b[39m:\n\u001b[0;32m      <a href='vscode-notebook-cell:/d%3A/study/0ineurondatascience/loops/ineuronTasks.ipynb#X10sZmlsZQ%3D%3D?line=6'>7</a>\u001b[0m     \u001b[39mprint\u001b[39m(i)\n\u001b[1;32m----> <a href='vscode-notebook-cell:/d%3A/study/0ineurondatascience/loops/ineuronTasks.ipynb#X10sZmlsZQ%3D%3D?line=7'>8</a>\u001b[0m \u001b[39melif\u001b[39;00m \u001b[39mtype\u001b[39;49m(i) \u001b[39min\u001b[39;49;00m (\u001b[39mlist\u001b[39;49m):\n\u001b[0;32m      <a href='vscode-notebook-cell:/d%3A/study/0ineurondatascience/loops/ineuronTasks.ipynb#X10sZmlsZQ%3D%3D?line=8'>9</a>\u001b[0m     q9(i)\n\u001b[0;32m     <a href='vscode-notebook-cell:/d%3A/study/0ineurondatascience/loops/ineuronTasks.ipynb#X10sZmlsZQ%3D%3D?line=9'>10</a>\u001b[0m \u001b[39melif\u001b[39;00m \u001b[39mtype\u001b[39m(li) \u001b[39min\u001b[39;00m (\u001b[39mdict\u001b[39m,\u001b[39mdict\u001b[39m):\n",
      "\u001b[1;31mTypeError\u001b[0m: argument of type 'type' is not iterable"
     ]
    }
   ],
   "source": [
    "\n",
    "l = [[1,2,3,4] , (2,3,4,5,6) , (3,4,5,6,7) , set([23,4,5,45,4,4,5,45,45,4,5]) , {'k1' :\"sudh\" , \"k2\" : \"ineuron\",\"k3\":\"kumar\" , 3:6 , 7:8} , [\"ineuron\" , \"data science \"]]\n",
    "# q9 : Try to extract \"ineruon\" out of this data\n",
    "def q9(li):\n",
    "        \n",
    "    for i in li:\n",
    "        if type(i)== 'ineuron':\n",
    "            print(i)\n",
    "        elif type(i) == list:\n",
    "            q9(i)\n",
    "        elif type(li) == dict:\n",
    "            q9(dict.keys(li))\n",
    "            q9(dict.values(li))\n",
    "\n",
    "q9(l)\n"
   ]
  },
  {
   "cell_type": "code",
   "execution_count": null,
   "metadata": {},
   "outputs": [],
   "source": [
    "# q10 :Try to find out a number of occurances of all the data \n"
   ]
  },
  {
   "cell_type": "code",
   "execution_count": null,
   "metadata": {},
   "outputs": [],
   "source": [
    "\n",
    "# q11 : Try to find out number of keys in dict element\n",
    "# q12 : Try to filter out all the string data \n",
    "# q13 : Try to Find  out alphanum in data\n",
    "# q14 : Try to find out multiplication of all numeric value in  the individual collection inside dataset \n",
    "# q15 : Try to unwrape all the collection inside collection and create a flat list \n",
    "    \n",
    "    "
   ]
  },
  {
   "cell_type": "code",
   "execution_count": null,
   "metadata": {},
   "outputs": [],
   "source": [
    "# q1 :\n",
    "# ineruon \n",
    "# ineruon ineruon \n",
    "# ineruon ineruon ineruon\n",
    "# ineruon ineruon ineruon ineruon\n",
    "# q2 - \n",
    "\n",
    "#               ineruon\n",
    "#       ineruon         ineruon\n",
    "# ineruon\t\tineruon \t    ineruon\n",
    "#       ineruon\t\t    ineruon\n",
    "# \t\t        ineruon\n",
    "def br():\n",
    "    for i in range(30):\n",
    "        print(\"_\", end='')\n",
    "    print()\n",
    "# Question 1:\n",
    "print('Question 1')\n",
    "br()\n",
    "txt=input(\"Enter text: \")\n",
    "count=int(input(\"Enter count:\"))\n",
    "\n",
    "def q1(txt,count):\n",
    "    for i in range(count):\n",
    "        print(((txt+' ')*(i+1)))\n",
    "\n",
    "print(q1(txt,count))\n",
    "\n",
    "# Question 2:\n",
    "br()\n",
    "print(\"Question 2\")\n",
    "br()\n",
    "\n",
    "def q2(txt:str,count):\n",
    "    len=txt.__len__();\n",
    "    for i in range(count):\n",
    "        print(((' '*len)+(' '*2))*(count-1-i), end='')\n",
    "        print( ( txt+((' '*len)+(' '*4)))*(i+1))\n",
    "        print()\n",
    "\n",
    "    for i in range(count-2,-1,-1):\n",
    "            print(((' '*len)+(' '*2))*(count-1-i), end='')\n",
    "            print( ( txt+((' '*len)+(' '*4)))*(i+1))\n",
    "            print()\n",
    "        \n",
    "\n",
    "q2(txt,count)\n",
    "\n",
    "        "
   ]
  },
  {
   "cell_type": "code",
   "execution_count": 1,
   "metadata": {},
   "outputs": [
    {
     "data": {
      "text/plain": [
       "''"
      ]
     },
     "execution_count": 1,
     "metadata": {},
     "output_type": "execute_result"
    }
   ],
   "source": []
  }
 ],
 "metadata": {
  "kernelspec": {
   "display_name": "Python 3.10.6 64-bit",
   "language": "python",
   "name": "python3"
  },
  "language_info": {
   "codemirror_mode": {
    "name": "ipython",
    "version": 3
   },
   "file_extension": ".py",
   "mimetype": "text/x-python",
   "name": "python",
   "nbconvert_exporter": "python",
   "pygments_lexer": "ipython3",
   "version": "3.10.6"
  },
  "orig_nbformat": 4,
  "vscode": {
   "interpreter": {
    "hash": "369f2c481f4da34e4445cda3fffd2e751bd1c4d706f27375911949ba6bb62e1c"
   }
  }
 },
 "nbformat": 4,
 "nbformat_minor": 2
}
