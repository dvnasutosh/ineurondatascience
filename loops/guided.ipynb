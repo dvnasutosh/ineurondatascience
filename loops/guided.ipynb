{
 "cells": [
  {
   "cell_type": "code",
   "execution_count": 1,
   "metadata": {},
   "outputs": [
    {
     "name": "stdout",
     "output_type": "stream",
     "text": [
      "{'a', 'd', 's'}\n"
     ]
    }
   ],
   "source": [
    "\n",
    "s=\"dsdsdasd\"\n",
    "print(set(s))"
   ]
  },
  {
   "cell_type": "code",
   "execution_count": 4,
   "metadata": {},
   "outputs": [
    {
     "name": "stdout",
     "output_type": "stream",
     "text": [
      "0 = 1\n",
      "1 = 2\n",
      "2 = 32\n",
      "3 = 343\n",
      "4 = 43\n",
      "5 = 4\n",
      "6 = 1\n",
      "7 = 231\n",
      "8 = 32\n",
      "9 = 23\n"
     ]
    }
   ],
   "source": [
    "t=(1,2,32,343,43,4,1,231,32,23)\n",
    "for i in range(t.__len__()):\n",
    "    print(f\"{i} = {t[i]}\")"
   ]
  },
  {
   "cell_type": "code",
   "execution_count": 11,
   "metadata": {},
   "outputs": [
    {
     "name": "stdout",
     "output_type": "stream",
     "text": [
      "<class 'numbers.Complex'>\n"
     ]
    }
   ],
   "source": [
    "\n",
    "\n",
    "\n",
    "s=[\"sdasd\",12312,21312,23.23123,12312.3232,232,True, False, \"sdsd\", \"dsdsadw\", \"\"]\n",
    "\n",
    "def filternumber(inp:list):\n",
    "   return [ i for i in inp if type(i)==int or type(i) == float]\n",
    "\n",
    "print(filternumber(s))\n",
    "            "
   ]
  },
  {
   "cell_type": "code",
   "execution_count": null,
   "metadata": {},
   "outputs": [],
   "source": []
  },
  {
   "cell_type": "code",
   "execution_count": 6,
   "metadata": {},
   "outputs": [
    {
     "name": "stderr",
     "output_type": "stream",
     "text": [
      "<>:1: SyntaxWarning: \"is\" with a literal. Did you mean \"==\"?\n",
      "<>:1: SyntaxWarning: \"is\" with a literal. Did you mean \"==\"?\n",
      "C:\\Users\\Asutosh Rath\\AppData\\Local\\Temp\\ipykernel_31976\\3993111312.py:1: SyntaxWarning: \"is\" with a literal. Did you mean \"==\"?\n",
      "  2 is a\n",
      "C:\\Users\\Asutosh Rath\\AppData\\Local\\Temp\\ipykernel_31976\\3993111312.py:1: SyntaxWarning: \"is\" with a literal. Did you mean \"==\"?\n",
      "  2 is a\n",
      "C:\\Users\\Asutosh Rath\\AppData\\Local\\Temp\\ipykernel_31976\\3993111312.py:1: SyntaxWarning: \"is\" with a literal. Did you mean \"==\"?\n",
      "  2 is a\n"
     ]
    },
    {
     "ename": "NameError",
     "evalue": "name 'a' is not defined",
     "output_type": "error",
     "traceback": [
      "\u001b[1;31m---------------------------------------------------------------------------\u001b[0m",
      "\u001b[1;31mNameError\u001b[0m                                 Traceback (most recent call last)",
      "\u001b[1;32md:\\study\\0ineurondatascience\\loops\\guided.ipynb Cell 4\u001b[0m in \u001b[0;36m<cell line: 1>\u001b[1;34m()\u001b[0m\n\u001b[1;32m----> <a href='vscode-notebook-cell:/d%3A/study/0ineurondatascience/loops/guided.ipynb#W3sZmlsZQ%3D%3D?line=0'>1</a>\u001b[0m \u001b[39m2\u001b[39m \u001b[39mis\u001b[39;00m a\n",
      "\u001b[1;31mNameError\u001b[0m: name 'a' is not defined"
     ]
    }
   ],
   "source": []
  }
 ],
 "metadata": {
  "kernelspec": {
   "display_name": "Python 3.10.6 64-bit",
   "language": "python",
   "name": "python3"
  },
  "language_info": {
   "codemirror_mode": {
    "name": "ipython",
    "version": 3
   },
   "file_extension": ".py",
   "mimetype": "text/x-python",
   "name": "python",
   "nbconvert_exporter": "python",
   "pygments_lexer": "ipython3",
   "version": "3.10.6"
  },
  "orig_nbformat": 4,
  "vscode": {
   "interpreter": {
    "hash": "369f2c481f4da34e4445cda3fffd2e751bd1c4d706f27375911949ba6bb62e1c"
   }
  }
 },
 "nbformat": 4,
 "nbformat_minor": 2
}
