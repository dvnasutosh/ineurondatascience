{
 "cells": [
  {
   "cell_type": "code",
   "execution_count": 18,
   "metadata": {},
   "outputs": [
    {
     "name": "stdout",
     "output_type": "stream",
     "text": [
      "1\n",
      "2\n",
      "3\n",
      "4\n",
      "5\n",
      "6\n",
      "7\n",
      "45\n"
     ]
    }
   ],
   "source": [
    "a={1,2,3,4,5,6,7,5,6,3,45}\n",
    "for i in a:\n",
    "    print(i)"
   ]
  },
  {
   "cell_type": "code",
   "execution_count": 12,
   "metadata": {},
   "outputs": [
    {
     "ename": "TypeError",
     "evalue": "'int' object is not callable",
     "output_type": "error",
     "traceback": [
      "\u001b[1;31m---------------------------------------------------------------------------\u001b[0m",
      "\u001b[1;31mTypeError\u001b[0m                                 Traceback (most recent call last)",
      "\u001b[1;32md:\\study\\0ineurondatascience\\loops\\try.ipynb Cell 2\u001b[0m in \u001b[0;36m<cell line: 1>\u001b[1;34m()\u001b[0m\n\u001b[1;32m----> <a href='vscode-notebook-cell:/d%3A/study/0ineurondatascience/loops/try.ipynb#W4sZmlsZQ%3D%3D?line=0'>1</a>\u001b[0m \u001b[39mmin\u001b[39;49m([\u001b[39m1232\u001b[39;49m,\u001b[39m32\u001b[39;49m,\u001b[39m232\u001b[39;49m,\u001b[39m32\u001b[39;49m,\u001b[39m23\u001b[39;49m])\n",
      "\u001b[1;31mTypeError\u001b[0m: 'int' object is not callable"
     ]
    }
   ],
   "source": [
    "min([1232,32,232,32,23])"
   ]
  },
  {
   "cell_type": "markdown",
   "metadata": {},
   "source": []
  },
  {
   "cell_type": "code",
   "execution_count": 14,
   "metadata": {},
   "outputs": [
    {
     "data": {
      "text/plain": [
       "False"
      ]
     },
     "execution_count": 14,
     "metadata": {},
     "output_type": "execute_result"
    }
   ],
   "source": [
    "a={1}\n",
    "type(a) in (int, float)\n"
   ]
  },
  {
   "cell_type": "code",
   "execution_count": 11,
   "metadata": {},
   "outputs": [
    {
     "data": {
      "text/plain": [
       "'iiiiiiiiiiiiiiiiiiiiiiii'"
      ]
     },
     "execution_count": 11,
     "metadata": {},
     "output_type": "execute_result"
    }
   ],
   "source": [
    "l=4\n",
    "r=4\n",
    "i=0\n",
    "( 'i' * (l*2) ) * (r-i-1)\n"
   ]
  },
  {
   "cell_type": "code",
   "execution_count": 5,
   "metadata": {},
   "outputs": [
    {
     "data": {
      "text/plain": [
       "['a']"
      ]
     },
     "execution_count": 5,
     "metadata": {},
     "output_type": "execute_result"
    }
   ],
   "source": [
    "s={'a':[1,2,3,4,5]}\n",
    "list(s.keys())"
   ]
  },
  {
   "cell_type": "code",
   "execution_count": 1,
   "metadata": {},
   "outputs": [
    {
     "ename": "IndexError",
     "evalue": "list index out of range",
     "output_type": "error",
     "traceback": [
      "\u001b[1;31m---------------------------------------------------------------------------\u001b[0m",
      "\u001b[1;31mIndexError\u001b[0m                                Traceback (most recent call last)",
      "\u001b[1;32md:\\study\\0ineurondatascience\\loops\\try.ipynb Cell 7\u001b[0m in \u001b[0;36m<cell line: 2>\u001b[1;34m()\u001b[0m\n\u001b[0;32m      <a href='vscode-notebook-cell:/d%3A/study/0ineurondatascience/loops/try.ipynb#X10sZmlsZQ%3D%3D?line=0'>1</a>\u001b[0m s\u001b[39m=\u001b[39m[[]]\n\u001b[1;32m----> <a href='vscode-notebook-cell:/d%3A/study/0ineurondatascience/loops/try.ipynb#X10sZmlsZQ%3D%3D?line=1'>2</a>\u001b[0m s[\u001b[39m2\u001b[39;49m][\u001b[39m2\u001b[39m]\u001b[39m=\u001b[39m\u001b[39m3\u001b[39m\n\u001b[0;32m      <a href='vscode-notebook-cell:/d%3A/study/0ineurondatascience/loops/try.ipynb#X10sZmlsZQ%3D%3D?line=2'>3</a>\u001b[0m \u001b[39mprint\u001b[39m(s)\n",
      "\u001b[1;31mIndexError\u001b[0m: list index out of range"
     ]
    }
   ],
   "source": [
    "s=[[]]\n"
   ]
  },
  {
   "cell_type": "code",
   "execution_count": null,
   "metadata": {},
   "outputs": [],
   "source": [
    "# Your First Challenge : \n",
    "    \n",
    "# you have to submit it by next saturday 4th june 2022  : \n",
    "#     shivan@ineuron.ai ,sudhanshu@ineuron.ai\n",
    "    \n",
    "# q1 : Try to print this by using while loop \n",
    "# * \n",
    "# * * \n",
    "# * * * \n",
    "# * * * * \n",
    "# * * * * * \n",
    "# * * * * * * \n",
    "# * * * * * * * \n",
    "# * * * * * * * * \n",
    "# * * * * * * * * * \n",
    "\n",
    "# q2 : try to print below by using while loop : \n",
    "        \n",
    "# A\n",
    "# B H \n",
    "# C I N\n",
    "# D J o S\n",
    "# E K p T W\n",
    "# F L Q U X z\n",
    "# G M R V Y \n",
    "\n",
    "# q3 : Try to print all the number divisible by 3 in between a range of 40 - 400\n",
    "    \n",
    "# q4 : Try to filter out all the vowels form below text by using while loop : \n",
    "#  \"\"\"Python is a high-level, interpreted, general-purpose programming language. Its design philosophy emphasizes code readability with the use of significant indentation.[32]\n",
    "\n",
    "# Python is dynamically-typed and garbage-collected. It supports multiple programming paradigms, including structured (particularly procedural), object-oriented and functional programming. It is often described as a \"batteries included\" language due to its comprehensive standard library.[33][34]\n",
    "\n",
    "# Guido van Rossum began working on Python in the late 1980s as a successor to the ABC programming language and first released it in 1991 as Python 0.9.0.[35] Python 2.0 was released in 2000 and introduced new features such as list comprehensions, cycle-detecting garbage collection, reference counting, and Unicode support. Python 3.0, released in 2008, was a major revision that is not completely backward-compatible with earlier versions. Python 2 was discontinued with version 2.7.18 in 2020.[36]\n",
    "\n",
    "# Python consistently ranks as one of the most popular programming languagesc\"\"\" \n",
    "\n",
    "\n",
    "# q5 : Try to generate all the even number between 1- 1000\n",
    "\n",
    "# q6 : Define a function for all the above problem statememnt  . \n",
    "    \n",
    "# q7 : write a code to get a time of your system \n",
    "\n",
    "# q8 : Write a code to fetch date form your system \n",
    "\n",
    "# q9 : Write a code to send a mail to your friend \n",
    "\n",
    "# q10 : write a code to trigger alarm for you at scheduled time \n",
    "\n",
    "# q11 : write a code to check ip address of your system \n",
    "\n",
    "# q12 : Write a code to check a perticular installation in your system\n",
    "\n",
    "# q13 : Write a code to convert any text in to voice \n",
    "\n",
    "# q14 : you have to write a fun which will take string and return a len of \n",
    "# it without using a inbuilt fun len\n",
    "\n",
    "# q15 :write a fun which will be able to print an index of all premitive element which you will pass \n",
    "\n",
    "\n",
    "\n",
    "\n",
    "\n",
    " \n",
    "\n",
    "\n",
    "    \n",
    "# q20 : write a function by which you will be able to append two PDF files . \n",
    "    \n",
    "# q21 : write a function which can help you to filter only word file from a directory . \n",
    "    \n",
    "# q22 : write a function which can read video file and play for you . \n",
    "    \n",
    "# q23 : write a function which will be able to shutdonw your system . \n",
    "\n",
    "# q24 : Write a function which will whould return list of all the file name from a directory . \n",
    "\n",
    "# q25 : write a function whihc will be able to access your mail . \n",
    "        "
   ]
  },
  {
   "cell_type": "markdown",
   "metadata": {},
   "source": [
    "i "
   ]
  },
  {
   "cell_type": "code",
   "execution_count": 3,
   "metadata": {},
   "outputs": [
    {
     "ename": "SyntaxError",
     "evalue": "incomplete input (2484650828.py, line 5)",
     "output_type": "error",
     "traceback": [
      "\u001b[1;36m  Input \u001b[1;32mIn [3]\u001b[1;36m\u001b[0m\n\u001b[1;33m    \u001b[0m\n\u001b[1;37m    ^\u001b[0m\n\u001b[1;31mSyntaxError\u001b[0m\u001b[1;31m:\u001b[0m incomplete input\n"
     ]
    }
   ],
   "source": [
    "b=\"https://rr5---sn-ci5gup-cag6.googlevideo.com/videoplayback?expire=1661894611&ei=cysOY96bNI6QwgO9pZCYAQ&ip=2401%3A4900%3A1cb8%3A527e%3Aa498%3Af344%3A1038%3A296c&id=o-AKxnCptGLhqR0JpKPINc0w61S03LSMcIVSbvcNlEWhst&itag=303&aitags=133%2C134%2C135%2C136%2C160%2C242%2C243%2C244%2C247%2C278%2C298%2C299%2C302%2C303&source=youtube&requiressl=yes&mh=jm&mm=31%2C29&mn=sn-ci5gup-cag6%2Csn-ci5gup-h556&ms=au%2Crdu&mv=m&mvi=5&pl=49&initcwndbps=1601250&spc=lT-KhnUd84IbRuhorcI6Bl0RUImNmc9_omx8tFY9nMEF&vprv=1&mime=video%2Fwebm&ns=PV7PMExmEEUQC-m6SFpNGpMH&gir=yes&clen=612337259&dur=1898.999&lmt=1660928353401809&mt=1661872660&fvip=4&keepalive=yes&fexp=24001373%2C24007246&c=WEB&rbqsm=fr&txp=5437434&n=vtwTvPEe4BtBVg&sparams=expire%2Cei%2Cip%2Cid%2Caitags%2Csource%2Crequiressl%2Cspc%2Cvprv%2Cmime%2Cns%2Cgir%2Cclen%2Cdur%2Clmt&sig=AOq0QJ8wRAIgVkPKE8D1D1X2X4Evf8dqSM453D5_1uC_VAZn24X9SAMCID3zmKe3miAkoCm9R2SefbRjBpaw3bRlTYeeA9h32pr0&lsparams=mh%2Cmm%2Cmn%2Cms%2Cmv%2Cmvi%2Cpl%2Cinitcwndbps&lsig=AG3C_xAwRgIhAOEs0EBzmtcBIMD6Ue-qYbW42_wTTovCRDO-YWH4O69BAiEAmcTiHQeoA5mOgmKJ5ztyLGIC4HRZ_xJ8O6NEa5sxCOY%3D&alr=yes&cpn=zGXKhDcDQfb0Tx58&cver=2.20220829.00.00&range=0-916016&rn=1&rbuf=0&pot=DwTClL-W7IqSBP-Vwq58ApiGnwcVCsL61AOd1CRXyXpCSXPB13thUOO1nKGNOkSPLSaAhDvdZvFABEE9HyUZeKc2HNCBZTZmrnyGmgK27oLL99icwLb5RQFPgVDsxRoGcw==\"\n",
    "a=\"https://rr5---sn-ci5gup-cag6.googlevideo.com/videoplayback?expire=1661894611&ei=cysOY96bNI6QwgO9pZCYAQ&ip=2401%3A4900%3A1cb8%3A527e%3Aa498%3Af344%3A1038%3A296c&id=o-AKxnCptGLhqR0JpKPINc0w61S03LSMcIVSbvcNlEWhst&itag=22&source=youtube&requiressl=yes&mh=jm&mm=31%2C29&mn=sn-ci5gup-cag6%2Csn-ci5gup-h556&ms=au%2Crdu&mv=m&mvi=5&pl=49&initcwndbps=1601250&spc=lT-KhnUd84IbRuhorcI6Bl0RUImNmc9_omx8tFY9nMEF&vprv=1&mime=video%2Fmp4&ns=XoD6UPPfqX76vyXzIqBoW08H&cnr=14&ratebypass=yes&dur=1899.067&lmt=1660925704253654&mt=1661872660&fvip=4&fexp=24001373%2C24007246&c=WEB&rbqsm=fr&txp=5432434&n=iO__F1XXVAbiyH&sparams=expire%2Cei%2Cip%2Cid%2Citag%2Csource%2Crequiressl%2Cspc%2Cvprv%2Cmime%2Cns%2Ccnr%2Cratebypass%2Cdur%2Clmt&sig=AOq0QJ8wRgIhAPDy8D2hsiPeWZZdDTfjGyAZ0GHeZkMRnK28wS862aUWAiEAxHt56OHPP5oUynVNFpUaCcQhxC2FGgzeTc-wbpgeuyk%3D&lsparams=mh%2Cmm%2Cmn%2Cms%2Cmv%2Cmvi%2Cpl%2Cinitcwndbps&lsig=AG3C_xAwRgIhAOEs0EBzmtcBIMD6Ue-qYbW42_wTTovCRDO-YWH4O69BAiEAmcTiHQeoA5mOgmKJ5ztyLGIC4HRZ_xJ8O6NEa5sxCOY%3D\"\n",
    "similar:dict\n",
    "aa=''\n",
    "bb=''\n",
    "\n",
    "while()\n",
    "for i in range(max(a,b)):\n",
    "    if a[i]==b[i]:\n",
    "\n",
    "        "
   ]
  },
  {
   "cell_type": "code",
   "execution_count": null,
   "metadata": {},
   "outputs": [],
   "source": []
  }
 ],
 "metadata": {
  "kernelspec": {
   "display_name": "Python 3.10.6 64-bit",
   "language": "python",
   "name": "python3"
  },
  "language_info": {
   "codemirror_mode": {
    "name": "ipython",
    "version": 3
   },
   "file_extension": ".py",
   "mimetype": "text/x-python",
   "name": "python",
   "nbconvert_exporter": "python",
   "pygments_lexer": "ipython3",
   "version": "3.10.6"
  },
  "orig_nbformat": 4,
  "vscode": {
   "interpreter": {
    "hash": "369f2c481f4da34e4445cda3fffd2e751bd1c4d706f27375911949ba6bb62e1c"
   }
  }
 },
 "nbformat": 4,
 "nbformat_minor": 2
}
